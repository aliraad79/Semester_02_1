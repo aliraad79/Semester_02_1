{
 "cells": [
  {
   "attachments": {},
   "cell_type": "markdown",
   "metadata": {},
   "source": [
    "<div style=\"direction:rtl;line-height:300%;\">\n",
    "<font face=\"XB Zar\" size=5>\n",
    "<div align=center>\n",
    "<font face=\"B Titr\" size=5>\n",
    "<p></p><p></p>\n",
    "بسمه تعالی\n",
    "<p></p>\n",
    "</font>\n",
    "<p></p>\n",
    "<font>\n",
    "<br>\n",
    "درس بازیابی پیشرفته اطلاعات\n",
    "<br>\n",
    "مدرس: دکتر بیگی\n",
    "</font>\n",
    "<p></p>\n",
    "<br>\n",
    "<font>\n",
    "<b>تمرین اول</b>\n",
    "</font>\n",
    "<br>\n",
    "<br>\n",
    "موعد تحویل: ۱۵ آبان <br>\n",
    "<br>\n",
    "<br>\n",
    "<br>\n",
    "<font>\n",
    "دانشگاه صنعتی شریف\n",
    "<br>\n",
    "دانشکده مهندسی کامپیوتر\n",
    "<br>\n",
    "<br>\n",
    "</font>\n",
    "</div>\n",
    "</font>\n",
    "</div>"
   ]
  },
  {
   "attachments": {},
   "cell_type": "markdown",
   "metadata": {},
   "source": [
    "<div dir=\"rtl\">\n",
    "<font face=\"XB Zar\" size=6>\n",
    "<h1>مقدمه</h1>\n",
    "</font>\n",
    "<font face=\"XB Zar\" size=3>\n",
    "این تمرین به پیش‌پردازش متن، اصلاح پرسمان، ساخت نمایه، بازیابی boolean و فشرده‌سازی نمایه می‌پردازد.\n",
    "<br>\n",
    "دیتاستی که در اختبار شما قرار گرفته است شامل چکیده مقالات و id آن‌ها می‌باشد.\n",
    "</font>\n",
    "</div>"
   ]
  },
  {
   "cell_type": "markdown",
   "metadata": {},
   "source": [
    "<div dir='rtl'>\n",
    "<h1> آماده‌سازی دیتاست</h1>\n",
    "<p>\n",
    "دیتاستی که در اختیار شما قرار گرفته است، دارای سطر‌هایی می‌باشد که دارای مقدار NaN می‌باشد. برای اینکه بتوانید با این دیتاست کار کنید، باید ابتدا این سطر‌ها را حذف کنید.\n",
    "</p>\n",
    "</div>"
   ]
  },
  {
   "cell_type": "code",
   "execution_count": 1,
   "metadata": {},
   "outputs": [],
   "source": [
    "import pandas as pd\n",
    "# load the dataset and remove rows with missing values\n",
    "df = pd.read_csv(\"./data.csv\").dropna()"
   ]
  },
  {
   "cell_type": "markdown",
   "metadata": {},
   "source": [
    "<div dir='rtl'>\n",
    "<h1> Preprocessing (پیش پردازش)</h1>\n",
    "<p>\n",
    "بسیاری از داده ‌ها دارای مقادیر زیادی اطلاعات اضافه هستند که در پردازش ها به آن نیازی نیست و یا باعث ایجاد خطا میشوند.\n",
    "دراین بخش داده را از دیتابیس مورد نظر خوانده\n",
    "  و سپس پیش پردازش های مورد نیاز را اعمال کنید تا متن پیش پردازش شده را تولید کنید.\n",
    "پس از اتمام پیش پردازش سایر عملیات گفته شده در ادامه را بر\n",
    "روی متن ایجاد شده انجام میدهیم.\n",
    "\n",
    "\n",
    "کلاس\n",
    "\"Preprocessor\"\n",
    "عملیات پیش پردازش را انجام میدهد. نام توابع عمل های مورد نظر نوشته شده است و که با توجه به آن باید کد مخصوص هر یک نوشته شود. تابع\n",
    "\"preprocessor\"\n",
    "تابع اصلی این کلاس است که متن بدون پیش پردازش را گرفته و پردازش های مورد نظر را در آن اعمال میکند و متن مورد نظر را ایجاد میکند.\n",
    "\n",
    "در این بخش میتوانید از کتابخانه های آماده مانند\n",
    "<a href=\"https://www.nltk.org/\">NLTK</a>\n",
    "و\n",
    "<a href=\"https://spacy.io/\">SpaCy</a>\n",
    "استفاده کنید.\n",
    "</p>\n",
    "</div>"
   ]
  },
  {
   "cell_type": "code",
   "execution_count": 2,
   "metadata": {},
   "outputs": [],
   "source": [
    "import nltk\n",
    "from nltk.corpus import stopwords as nltk_stopwords\n",
    "import contractions\n",
    "from nltk.stem import LancasterStemmer, WordNetLemmatizer\n",
    "import re\n",
    "\n",
    "\n",
    "class Preprocessor:\n",
    "    def __init__(self, stopwords_path=\"\"):\n",
    "        # Create a variable of stop words.\n",
    "        self.stopwords = nltk_stopwords\n",
    "\n",
    "    def preprocess(self, text):\n",
    "        text = self.remove_links(text)\n",
    "        text = self.replace_contractions(text)\n",
    "        words = self.word_tokenize(text)\n",
    "        words = self.stem_words(words)\n",
    "        words = self.lemmatize_verbs(words)\n",
    "\n",
    "        return self.normalize(words)\n",
    "\n",
    "    def normalize(self, text):\n",
    "        # Normalize text (lower case, stemming, lemmatization, etc.)\n",
    "        text = self.to_lowercase(text)\n",
    "        text = self.remove_punctuations(text)\n",
    "        text = self.remove_stopwords(text)\n",
    "        return text\n",
    "\n",
    "    def remove_links(self, text):\n",
    "        # Remove links\n",
    "        return re.sub(r\"http\\S+\", \"\", text)\n",
    "\n",
    "    def remove_punctuations(self, text):\n",
    "        # Remove punctutaions\n",
    "        new_words = []\n",
    "        for word in text:\n",
    "            new_word = re.sub(r\"[^\\w\\s]\", \"\", word)\n",
    "            if new_word != \"\":\n",
    "                new_words.append(new_word)\n",
    "        return new_words\n",
    "\n",
    "    def word_tokenize(self, text):\n",
    "        # Tokenize text\n",
    "        return nltk.word_tokenize(text)\n",
    "\n",
    "    def remove_stopwords(self, words):\n",
    "        new_words = []\n",
    "        for word in words:\n",
    "            if word not in self.stopwords.words(\"english\"):\n",
    "                new_words.append(word)\n",
    "        return new_words\n",
    "\n",
    "    # Self added functions\n",
    "    def stem_words(self, text):\n",
    "        stemmer = LancasterStemmer()\n",
    "        stems = []\n",
    "        for word in text:\n",
    "            stem = stemmer.stem(word)\n",
    "            stems.append(stem)\n",
    "        return stems\n",
    "\n",
    "    def lemmatize_verbs(self, text):\n",
    "        lemmatizer = WordNetLemmatizer()\n",
    "        lemmas = []\n",
    "        for word in text:\n",
    "            lemma = lemmatizer.lemmatize(word, pos=\"v\")\n",
    "            lemmas.append(lemma)\n",
    "        return lemmas\n",
    "\n",
    "    def to_lowercase(self, text):\n",
    "        new_words = []\n",
    "        for word in text:\n",
    "            new_word = word.lower()\n",
    "            new_words.append(new_word)\n",
    "        return new_words\n",
    "\n",
    "    def replace_contractions(self, text):\n",
    "        return contractions.fix(text)"
   ]
  },
  {
   "cell_type": "markdown",
   "metadata": {},
   "source": [
    "<div dir='rtl'>\n",
    "<h1>ساخت نمایه</h1>\n",
    "<p>\n",
    "شما در حال توسعه یک موتور جستجوی سریع هستید که از نمایه سازی پویا پشتیبانی می کند. موتور جستجو اسناد جدید را در قالب دسته‌هایی کوچک‌تر   \n",
    "(batch) هندل می‌کند. در پایان هر روز، این دسته‌ها با استفاده از استراتژی ادغام لگاریتمی ادغام می شوند. هدف به حداقل رساندن هزینه ادغام است.  \n",
    "مراحلی که باید برای حل این مسئله انجام دهید عبارتند از:\n",
    "<li>توکن‌بندی و نرمال‌سازی متن از اسناد.</li>\n",
    "    <li>ایجاد یک index مرتب‌ شده برای هر دسته از اسناد.</li>\n",
    "    <li>ادغام بهینه چند دسته از indexها با استفاده از یک استراتژی ادغام لگاریتمی.</li>\n",
    "وظیفه شما این است که بخش‌های خالی <strong>(مشخص شده به‌صورت {TODO})</strong> کد را پر کنید تا موتور جستجو عملی شود.\n",
    "</p>\n",
    "</div>"
   ]
  },
  {
   "cell_type": "markdown",
   "metadata": {},
   "source": [
    "<div dir='rtl'>\n",
    "<h3> دستورات </h3>\n",
    "<li>متد <code>sort_based_index_construction</code> از <code>DocumentBatch</code>:</li>\n",
    "<p>هر سند را با استفاده از تابع‌هایی که در قسمت قبل نوشتید، عمل preprocessing را روی آن انجام دهید.</p>\n",
    "<p>برای هر توکن، شناسه سند را به فهرست معکوس (inverted index) برای آن توکن اضافه کنید.</p>\n",
    "<li>متد <code>add_batch</code> در <code>FastSearchEngine</code></li>\n",
    "<p>فهرست معکوس برای دسته (batch) را ایجاد کنید.</p>\n",
    "<p>این دسته را به فهرست‌های روزانه اضافه کنید.</p>\n",
    "<li>متد <code>end_of_day_merge</code> از <code>FastSearchEngine:</code></li>\n",
    "<p>استراتژی ادغام لگاریتمی را پیاده‌سازی کنید تا به صورت بهینه فهرست‌های روزانه را با فهرست اصلی ادغام کنید.</p>"
   ]
  },
  {
   "cell_type": "code",
   "execution_count": 26,
   "metadata": {},
   "outputs": [
    {
     "name": "stdout",
     "output_type": "stream",
     "text": [
      "defaultdict(<class 'list'>, {0: [Index<develop, 1, {0}>, Index<marketbased, 2, {0}>, Index<mech, 2, {0}>, Index<en, 1, {0}>, Index<build, 1, {0}>, Index<smart, 1, {0}>, Index<microgrid, 1, {0}>, Index<op, 3, {0}>, Index<smo, 5, {0}>, Index<reg, 3, {0}>, Index<serv, 4, {0, 1}>, Index<reserv, 4, {0}>, Index<meet, 2, {0}>, Index<assocy, 2, {0}>, Index<oblig, 1, {0}>, Index<fast, 1, {0}>, Index<respons, 1, {0}>, Index<command, 1, {0}>, Index<issu, 1, {0}>, Index<wholes, 1, {0}>, Index<market, 1, {0}>, Index<independ, 2, {0, 1}>, Index<system, 4, {0, 1}>, Index<iso, 5, {0}>, Index<provid, 10, {0, 1}>, Index<energy, 1, {0}>, Index<purchas, 1, {0}>, Index<propos, 5, {0, 1}>, Index<allow, 2, {0}>, Index<control, 2, {0}>, Index<behavy, 2, {0, 1}>, Index<intern, 1, {0}>, Index<load, 3, {0, 1}>, Index<pric, 3, {0}>, Index<sign, 4, {0, 1}>, Index<feedback, 1, {0}>, Index<quant, 2, {0}>, Index<transact, 1, {0}>, Index<rel, 1, {0}>, Index<long, 2, {0}>, Index<period, 2, {0}>, Index<tim, 2, {0}>, Index<eg, 1, {0}>, Index<onehourlong, 1, {0}>, Index<timescal, 4, {0}>, Index<dur, 1, {0}>, Index<thi, 8, {0, 1}>, Index<follow, 1, {0}>, Index<short, 2, {0}>, Index<stochast, 2, {0}>, Index<dynam, 4, {0}>, Index<rep, 1, {0}>, Index<request, 4, {0, 1}>, Index<decreas, 1, {0}>, Index<increas, 1, {0}>, Index<consum, 2, {0}>, Index<model, 2, {0, 1}>, Index<task, 1, {0}>, Index<select, 3, {0, 1}>, Index<optim, 4, {0}>, Index<policy, 3, {0}>, Index<program, 4, {0, 1}>, Index<maxim, 1, {0}>, Index<av, 4, {0, 1}>, Index<util, 3, {0}>, Index<form, 1, {0}>, Index<nonlinear, 1, {0}>, Index<stat, 2, {0}>, Index<problem, 1, {0}>, Index<bind, 2, {0}>, Index<study, 1, {0}>, Index<asymptot, 1, {0}>, Index<regim, 1, {0}>, Index<show, 2, {0}>, Index<tight, 1, {0}>, Index<efficy, 1, {0}>, Index<approxim, 2, {0}>, Index<eq, 1, {0}>, Index<import, 1, {0}>, Index<framework, 1, {0}>, Index<us, 4, {0, 1}>, Index<decid, 1, {0}>, Index<determin, 1, {0}>, Index<demonst, 1, {0}>, Index<ver, 1, {0}>, Index<valid, 1, {0}>, Index<approach, 3, {0, 1}>, Index<sery, 1, {0}>, Index<mont, 1, {0}>, Index<carlo, 1, {0}>, Index<sim, 2, {0}>, Index<traject, 1, {0}>, Index<dataintensive, 2, {1}>, Index<apply, 5, {0, 1}>, Index<put, 1, {1}>, Index<immens, 1, {1}>, Index<strain, 1, {1}>, Index<mem, 2, {1}>, Index<graph, 1, {1}>, Index<process, 3, {0, 1}>, Index<unit, 2, {1}>, Index<gpu, 3, {1}>, Index<cat, 1, {1}>, Index<nee, 1, {1}>, Index<distribut, 1, {1}>, Index<across, 3, {1}>, Index<high, 3, {1}>, Index<bandwid, 5, {1}>, Index<parallel, 1, {1}>, Index<find, 1, {1}>, Index<strategy, 1, {1}>, Index<break, 1, {1}>, Index<shar, 8, {1}>, Index<dat, 7, {1}>, Index<structure, 2, {1}>, Index<becaus, 1, {1}>, Index<lastlevel, 1, {1}>, Index<cach, 3, {1}>, Index<llc, 15, {1}>, Index<org, 2, {1}>, Index<contemp, 1, {1}>, Index<stor, 1, {1}>, Index<singl, 2, {1}>, Index<slic, 2, {1}>, Index<ar, 3, {0, 1}>, Index<hent, 1, {1}>, Index<ser, 1, {1}>, Index<result, 3, {0, 1}>, Index<requir, 1, {1}>, Index<priv, 1, {1}>, Index<oft, 1, {1}>, Index<undesir, 1, {1}>, Index<sint, 1, {1}>, Index<reduc, 3, {0, 1}>, Index<effect, 2, {1}>, Index<capac, 3, {1}>, Index<work, 1, {1}>, Index<reply, 4, {1}>, Index<selrep, 6, {1}>, Index<readonly, 2, {1}>, Index<improv, 2, {1}>, Index<supply, 1, {1}>, Index<whil, 1, {1}>, Index<ens, 1, {1}>, Index<retain, 1, {1}>, Index<sufficy, 1, {1}>, Index<keep, 1, {1}>, Index<compiletim, 1, {1}>, Index<compon, 2, {1}>, Index<dataflow, 1, {1}>, Index<analys, 4, {0, 1}>, Index<ident, 1, {1}>, Index<specialpurpose, 1, {1}>, Index<instruct, 1, {1}>, Index<thes, 4, {0, 1}>, Index<access, 1, {1}>, Index<runtim, 1, {1}>, Index<monit, 1, {1}>, Index<lev, 1, {1}>, Index<choos, 1, {1}>, Index<degr, 1, {1}>, Index<car, 1, {1}>, Index<bal, 1, {1}>, Index<benefit, 1, {1}>, Index<cost, 1, {1}>, Index<consist, 1, {1}>, Index<perform, 3, {1}>, Index<replicationsensitive, 1, {1}>, Index<diff, 3, {0, 1}>, Index<set, 1, {1}>, Index<siz, 1, {1}>, Index<mor, 3, {0, 1}>, Index<spec, 1, {1}>, Index<197, 1, {1}>, Index<111, 1, {1}>, Index<616, 1, {1}>, Index<310, 1, {1}>, Index<comp, 3, {0, 1}>, Index<baselin, 1, {1}>, Index<stateoftheart, 1, {1}>, Index<adapt, 2, {1}>, Index<respect, 3, {0, 1}>, Index<inexact, 2, {0}>, Index<comput, 4, {0}>, Index<attract, 1, {0}>, Index<paradigm, 1, {0}>, Index<digit, 1, {0}>, Index<nanomet, 1, {0}>, Index<scal, 1, {0}>, Index<particul, 1, {0}>, Index<interest, 1, {0}>, Index<arithmet, 1, {0}>, Index<design, 7, {0}>, Index<pap, 2, {0, 1}>, Index<deal, 1, {0}>, Index<two, 2, {0}>, Index<new, 1, {0}>, Index<42, 1, {0}>, Index<compress, 3, {0}>, Index<multiply, 5, {0}>, Index<rely, 1, {0}>, Index<feat, 1, {0}>, Index<imprecid, 1, {0}>, Index<meas, 1, {0}>, Index<er, 3, {0}>, Index<rat, 1, {0}>, Index<socalled, 1, {0}>, Index<norm, 2, {0}>, Index<dist, 2, {0}>, Index<circuitbased, 1, {0}>, Index<fig, 1, {0}>, Index<merit, 1, {0}>, Index<numb, 1, {0}>, Index<transist, 2, {0}>, Index<delay, 2, {0}>, Index<pow, 2, {0}>, Index<four, 1, {0}>, Index<scheme, 1, {0}>, Index<dadd, 1, {0}>, Index<extend, 1, {0}>, Index<im, 3, {0}>, Index<pres, 1, {0}>, Index<accompl, 1, {0}>, Index<dissip, 1, {0}>, Index<count, 1, {0}>, Index<exact, 1, {0}>, Index<moreov, 1, {0}>, Index<excel, 1, {0}>, Index<cap, 1, {0}>, Index<peak, 1, {0}>, Index<signaltonoise, 1, {0}>, Index<ratio, 1, {0}>, Index<50, 1, {0}>, Index<db, 1, {0}>, Index<consid, 1, {0}>, Index<exampl, 1, {0}>, Index<gam, 5, {1}>, Index<chess, 3, {1}>, Index<widelystudied, 1, {1}>, Index<domain, 3, {1}>, Index<hist, 1, {1}>, Index<art, 1, {1}>, Index<intellig, 1, {1}>, Index<strongest, 1, {1}>, Index<bas, 1, {1}>, Index<combin, 1, {1}>, Index<soph, 1, {1}>, Index<search, 1, {1}>, Index<techn, 1, {1}>, Index<domainspecific, 1, {1}>, Index<handcraft, 1, {1}>, Index<evalu, 1, {1}>, Index<funct, 1, {1}>, Index<hav, 1, {1}>, Index<refin, 1, {1}>, Index<hum, 1, {1}>, Index<expert, 1, {1}>, Index<ov, 1, {1}>, Index<sev, 1, {1}>, Index<decad, 1, {1}>, Index<contrast, 1, {1}>, Index<alphago, 1, {1}>, Index<zero, 1, {1}>, Index<rec, 1, {1}>, Index<achiev, 3, {1}>, Index<superhum, 3, {1}>, Index<go, 2, {1}>, Index<tabul, 2, {1}>, Index<ras, 2, {1}>, Index<reinforc, 1, {1}>, Index<learn, 1, {1}>, Index<selfplay, 1, {1}>, Index<gen, 1, {1}>, Index<alphazero, 2, {1}>, Index<algorithm, 1, {1}>, Index<many, 1, {1}>, Index<challeng, 1, {1}>, Index<start, 1, {1}>, Index<random, 1, {1}>, Index<play, 2, {1}>, Index<giv, 1, {1}>, Index<knowledg, 1, {1}>, Index<exceiv, 1, {1}>, Index<rul, 1, {1}>, Index<within, 1, {1}>, Index<24, 1, {1}>, Index<hour, 1, {1}>, Index<level, 1, {1}>, Index<shog, 1, {1}>, Index<japan, 1, {1}>, Index<wel, 1, {1}>, Index<convint, 1, {1}>, Index<def, 1, {1}>, Index<worldchampion, 1, {1}>, Index<cas, 1, {1}>]})\n"
     ]
    }
   ],
   "source": [
    "from collections import defaultdict, deque\n",
    "\n",
    "\n",
    "class Index:\n",
    "    def __init__(self, word) -> None:\n",
    "        self.word = word\n",
    "        self.number_of_repeat = 0\n",
    "        self.doc_ids = set()\n",
    "\n",
    "    def add_to_new_doc(self, doc_id):\n",
    "        self.number_of_repeat += 1\n",
    "        self.doc_ids.add(doc_id)\n",
    "\n",
    "    def merge(self, another_index: \"Index\"):\n",
    "        self.doc_ids.update(another_index.doc_ids)\n",
    "        self.number_of_repeat += len(self.doc_ids)\n",
    "\n",
    "    def __repr__(self) -> str:\n",
    "        return f\"Index<{self.word}, {self.number_of_repeat}, {self.doc_ids}>\"\n",
    "    \n",
    "    def __eq__(self, __value: object) -> bool:\n",
    "        return self.word == __value.word\n",
    "\n",
    "    def __hash__(self) -> int:\n",
    "        return hash(self.word)\n",
    "\n",
    "\n",
    "class DocumentBatch:\n",
    "    def __init__(self, docs):\n",
    "        self.documents = docs\n",
    "        self.index = dict()\n",
    "\n",
    "    def sort_based_index_construction(self):\n",
    "        # {TODO}: Build an inverted index for the batch\n",
    "        preprocessor = Preprocessor()\n",
    "        for idx, doc in enumerate(self.documents):\n",
    "            procced_doc = preprocessor.preprocess(doc)\n",
    "            for word in procced_doc:\n",
    "                if word not in self.index.keys():\n",
    "                    self.index[word] = Index(word)\n",
    "                self.index[word].add_to_new_doc(idx)\n",
    "        return self.index\n",
    "\n",
    "\n",
    "class FastSearchEngine:\n",
    "    def __init__(self):\n",
    "        self.main_index = defaultdict(list)  # [str, Index]\n",
    "        self.daily_indices = deque()\n",
    "\n",
    "        # Self added\n",
    "        self.main_index_max_size = 10\n",
    "\n",
    "    def add_batch(self, batch: DocumentBatch):\n",
    "        for i in batch.sort_based_index_construction().values():\n",
    "            self.daily_indices.append(i)\n",
    "\n",
    "    def end_of_day_logarithmic_merge(self):\n",
    "        for i in self.daily_indices:\n",
    "            self.l_merge_add_token([], self.main_index[0], i)\n",
    "\n",
    "    def l_merge_add_token(self, indexes:list, Z0: list[Index], token: Index):\n",
    "        self.merge_tokens_inplace(Z0, [token])\n",
    "\n",
    "        Zi = [Z0]\n",
    "        # main_index => Ii\n",
    "\n",
    "        if len(Z0) == self.main_index_max_size:\n",
    "            i = 0\n",
    "            while True:\n",
    "                if i in indexes:\n",
    "                    Zi[i + 1] = self.merge_tokens_inplace(self.main_index[i], Zi[i])\n",
    "                    indexes.remove(i)\n",
    "                else:\n",
    "                    self.main_index[i] = Z0\n",
    "                    indexes.append(i)\n",
    "                    break\n",
    "                i += 1\n",
    "\n",
    "    def merge_tokens_inplace(self, index:list[Index], tokens: list[Index]):\n",
    "        for token in tokens:\n",
    "            if token in index:\n",
    "                occurance = index.index(token)\n",
    "                index[occurance].merge(token)\n",
    "            else:\n",
    "                index.append(token)\n",
    "\n",
    "\n",
    "# Divide the documents into groups to distribute them between servers. For example, let's consider two servers here.\n",
    "# Divide the documents of each server into batches, for instance, five batches.\n",
    "# Create an index for each batch and for each server, then merge them into the main index at the end of the day.\n",
    "# Repeat this process until all documents are processed.\n",
    "\n",
    "\n",
    "# Usage example\n",
    "server_a_docs = df.iloc[0:20][\"abstract\"].values\n",
    "server_b_docs = df.iloc[30:50][\"abstract\"].values\n",
    "\n",
    "\n",
    "for i in range(5):\n",
    "    server_a_batch = DocumentBatch(server_a_docs[i * 2 : i * 2 + 2])\n",
    "    server_b_batch = DocumentBatch(server_b_docs[i * 2 : i * 2 + 2])\n",
    "\n",
    "    search_engine = FastSearchEngine()\n",
    "    search_engine.add_batch(server_a_batch)\n",
    "    search_engine.add_batch(server_b_batch)\n",
    "\n",
    "    # At end of day\n",
    "    search_engine.end_of_day_logarithmic_merge()\n",
    "\n",
    "# Note that the above was just an example demonstrating the general process.\n",
    "# but you can take two servers and five batches for each server as a constant and implement the process for them."
   ]
  },
  {
   "cell_type": "markdown",
   "metadata": {},
   "source": [
    "<div dir='rtl'>\n",
    "<h1>Spell Correction (اصلاح پرسمان)</h1>\n",
    "<p>\n",
    "در بسیاری از اوقات پرسمان دادە شده توسط کاربر، ممکن است ناقص یا دارای غلط املایی باشد. برای رفع این مشکل در بسیاری از موتورهای جستجو راە حل هایی تدارک دیده شدە است. ابتدا این راە حل ها را شرح دهید و بیان کنید که یک موتور جست و جو بر چه اساسی پرسمان های اصلاح شده را به کاربر نمایش می دهد.</p>\n",
    "</div>"
   ]
  },
  {
   "cell_type": "markdown",
   "metadata": {},
   "source": [
    "<div dir='rtl'>\n",
    "<h2>پاسخ سوال بالا</h2>\n",
    "پاسخ‌ خود را در این سلول بنویسید."
   ]
  },
  {
   "cell_type": "markdown",
   "metadata": {},
   "source": [
    "<div dir='rtl'>\n",
    "<p>\n",
    "    در این بخش، ابتدا با استفاده از روش bigram لغات نزدیک به لغات اصلی را پیدا کنید و در آخر با معیار minimum edit distance لغتی جایگزین را برای لغت مورد نظر پیدا کنید.  سپس برای هر پرسمان ورودی کاربر، در صورت اشتباه بودن آن، آن را تصحیح کنید. برای stopword‌ها نیز می‌توانید از لیست موجود که در قسمت‌های قبل ساختید استفاده کنید.\n",
    "</p>\n",
    "</div>"
   ]
  },
  {
   "cell_type": "code",
   "execution_count": 5,
   "metadata": {},
   "outputs": [],
   "source": [
    "from typing import List, Dict\n",
    "\n",
    "def create_bigram_index():\n",
    "    \"\"\"\n",
    "    Creates a bigram index for the spell correction\n",
    "\n",
    "    Returns\n",
    "    -------\n",
    "    dict\n",
    "        A dictionary of bigrams and their occurence\n",
    "    \"\"\"\n",
    "    # TODO: Create the bigram index here\n",
    "    bigram: Dict[str, List[str]] = {}\n",
    "    return bigram\n",
    "\n",
    "bigram_index = create_bigram_index()"
   ]
  },
  {
   "cell_type": "code",
   "execution_count": 6,
   "metadata": {},
   "outputs": [
    {
     "data": {
      "text/plain": [
       "''"
      ]
     },
     "execution_count": 6,
     "metadata": {},
     "output_type": "execute_result"
    }
   ],
   "source": [
    "def spell_correction(query):\n",
    "  \"\"\"\n",
    "    Correct the give query text, if it is misspelled\n",
    "\n",
    "    Paramters\n",
    "    ---------\n",
    "    query: str\n",
    "        The query text\n",
    "\n",
    "    Returns\n",
    "    ---------\n",
    "    corrected_query: str\n",
    "        The corrected text\n",
    "    \"\"\"\n",
    "  # TODO: correct the query\n",
    "  corrected_query = \"\"\n",
    "\n",
    "  return corrected_query\n",
    "\n",
    "# Example usage\n",
    "user_query = \"Wht is the most populr progarmming lanuage?\"\n",
    "spell_correction(user_query)"
   ]
  },
  {
   "cell_type": "markdown",
   "metadata": {},
   "source": [
    "<div dir='rtl'>\n",
    "<h1> Boolean Retrieval </h1>\n",
    "<p>\n",
    " در این قسمت هدف طراحی یک سامانەی بازیابی اطلاعات boolean می‌باشد. \n",
    "\n",
    "برای این کار ابتدا پیش پردازش‌های مورد نیاز را مانند بخش قبل بر روی متون انجام دهید و در مرحله بعد ماتریس doc−term را ایجاد کنید. در نهایت کلاس BooleanRetrievalModel را تکمیل کنید که شامل توابع preprocess_query و find_siⅿiⅼar_docs است که توضیحات هرکدام در قسمت کد موجود است. هدف نهایی این است که هرگاه کوئری به تابع find_siⅿiⅼar_docs از کلاس BooleanRetrievalModel داده شود، شناسه k تا از داک‌هایی که شامل کوئری داده شده هستند برگردانده شوند.\n",
    "</p>\n",
    "</div>"
   ]
  },
  {
   "cell_type": "code",
   "execution_count": 7,
   "metadata": {},
   "outputs": [],
   "source": [
    "# preprocess and tokenize all documents"
   ]
  },
  {
   "cell_type": "code",
   "execution_count": 8,
   "metadata": {},
   "outputs": [],
   "source": [
    "def make_doc_term_matrix(documents):\n",
    "    \"\"\"\n",
    "    Create doc_term_matrix by using documents and unique words.\n",
    "    \"\"\"\n",
    "    pass"
   ]
  },
  {
   "cell_type": "code",
   "execution_count": 9,
   "metadata": {},
   "outputs": [],
   "source": [
    "class BooleanRetrievalModel:\n",
    "    def __init__(self, doc_term_matrix):\n",
    "        \"\"\"    \n",
    "        Set doc_term_matrix and initialize the model.\n",
    "        \"\"\"\n",
    "\n",
    "    def preprocess_query(self, query):\n",
    "        \"\"\"\n",
    "        Do necessary preprocessing here before using the query to find k similar docs.\n",
    "        Use methods from Preprocess section.\n",
    "        \"\"\"\n",
    "        processed_query = ''\n",
    "        return processed_query\n",
    "    \n",
    "    def find_siⅿiⅼar_docs(self, query, k=20):\n",
    "        processed_query = preprocess_query(query)\n",
    "        \"\"\"\n",
    "        Find k similiar documents.\n",
    "        \"\"\"\n",
    "        similiar_docs = []\n",
    "        return similiar_docs"
   ]
  },
  {
   "cell_type": "markdown",
   "metadata": {},
   "source": [
    "<div dir='rtl'>\n",
    "در این قسمت ۳ کوئری مختلف به دلخواه خود بزنید و لیست داکیومنت‌های مرتبط با آن‌ها را برگردانید. برای کوتاه‌تر شدن لیست جواب در هر کوئری می‌توانید از عملگر‌های منطقی مانند AND استفاده کنید.\n",
    "</div>"
   ]
  },
  {
   "cell_type": "code",
   "execution_count": 10,
   "metadata": {},
   "outputs": [],
   "source": [
    "# make 3 queries and find similar docs for each of them"
   ]
  },
  {
   "cell_type": "markdown",
   "metadata": {},
   "source": [
    "<div dir='rtl'>\n",
    "\n",
    "# ذخیره و فشرده‌سازی نمایه\n",
    "در این بخش، در ابتدا دو الگوریتم فشرده‌سازی gamma code و variable byte را پیاده‌سازی کنید.  \n",
    "سپس نمایه را به سه شکل زیر ذخیره کنید:\n",
    "- نمایه‌ی اصلی بدون فشرده‌سازی\n",
    "- نمایه‌ای که با استفاده از gamma code فشرده شده است.\n",
    "- نمایه‌ای که با استفاده از variable byte فشرده شده است.\n",
    "\n",
    "در ادامه اندازه‌ی هر کدام از سه فایل بالا را با استفاده از یک تابع به دست آورده و چاپ کنید.  \n",
    "همچنین باید تابع‌هایی برای decompress کردن نمایه‌های فشرده‌شده پیاده‌سازی کنید.\n",
    "\n",
    "**نکته‌ی ۱:** تمامی نمایه‌ها را نیز در کوئرا ارسال کنید. اگر حجم‌شان بیش‌تر از محدودیت کوئرا است، آن‌ها را در یک مکان دیگر آپلود کرده و لینک آن را در این فایل قرار دهید.  \n",
    "**نکته‌ی ۲:** توابع زیر صرفاً پیشنهادی هستند و هر گونه تغییر تا زمانی که کاربردهای مورد نظر پیاده شود، آزاد است.\n",
    "</div>"
   ]
  },
  {
   "cell_type": "code",
   "execution_count": 11,
   "metadata": {},
   "outputs": [],
   "source": [
    "def gamma_encode():\n",
    "    pass\n",
    "\n",
    "def variable_byte_encode():\n",
    "    pass\n"
   ]
  },
  {
   "cell_type": "code",
   "execution_count": 12,
   "metadata": {},
   "outputs": [],
   "source": [
    "def gamma_decode():\n",
    "    pass\n",
    "\n",
    "def variable_byte_decode():\n",
    "    pass\n"
   ]
  },
  {
   "cell_type": "code",
   "execution_count": 13,
   "metadata": {},
   "outputs": [],
   "source": [
    "def save_index():\n",
    "    pass\n",
    "\n",
    "def load_index():\n",
    "    pass\n",
    "\n",
    "def get_size():\n",
    "    pass"
   ]
  }
 ],
 "metadata": {
  "kernelspec": {
   "display_name": "Python 3",
   "language": "python",
   "name": "python3"
  },
  "language_info": {
   "codemirror_mode": {
    "name": "ipython",
    "version": 3
   },
   "file_extension": ".py",
   "mimetype": "text/x-python",
   "name": "python",
   "nbconvert_exporter": "python",
   "pygments_lexer": "ipython3",
   "version": "3.10.12"
  },
  "orig_nbformat": 4,
  "vscode": {
   "interpreter": {
    "hash": "08ac30a6a1fd2e576b33e03f7d61c3a285d7ee0582c2dd23dde6343ef303ebe9"
   }
  }
 },
 "nbformat": 4,
 "nbformat_minor": 2
}
