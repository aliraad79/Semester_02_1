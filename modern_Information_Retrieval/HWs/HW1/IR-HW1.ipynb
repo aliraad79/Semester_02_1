{
 "cells": [
  {
   "attachments": {},
   "cell_type": "markdown",
   "metadata": {},
   "source": [
    "<div style=\"direction:rtl;line-height:300%;\">\n",
    "<font face=\"XB Zar\" size=5>\n",
    "<div align=center>\n",
    "<font face=\"B Titr\" size=5>\n",
    "<p></p><p></p>\n",
    "بسمه تعالی\n",
    "<p></p>\n",
    "</font>\n",
    "<p></p>\n",
    "<font>\n",
    "<br>\n",
    "درس بازیابی پیشرفته اطلاعات\n",
    "<br>\n",
    "مدرس: دکتر بیگی\n",
    "</font>\n",
    "<p></p>\n",
    "<br>\n",
    "<font>\n",
    "<b>تمرین اول</b>\n",
    "</font>\n",
    "<br>\n",
    "<br>\n",
    "موعد تحویل: ۱۵ آبان <br>\n",
    "<br>\n",
    "<br>\n",
    "<br>\n",
    "<font>\n",
    "دانشگاه صنعتی شریف\n",
    "<br>\n",
    "دانشکده مهندسی کامپیوتر\n",
    "<br>\n",
    "<br>\n",
    "</font>\n",
    "</div>\n",
    "</font>\n",
    "</div>"
   ]
  },
  {
   "attachments": {},
   "cell_type": "markdown",
   "metadata": {},
   "source": [
    "<div dir=\"rtl\">\n",
    "<font face=\"XB Zar\" size=6>\n",
    "<h1>مقدمه</h1>\n",
    "</font>\n",
    "<font face=\"XB Zar\" size=3>\n",
    "این تمرین به پیش‌پردازش متن، اصلاح پرسمان، ساخت نمایه، بازیابی boolean و فشرده‌سازی نمایه می‌پردازد.\n",
    "<br>\n",
    "دیتاستی که در اختبار شما قرار گرفته است شامل چکیده مقالات و id آن‌ها می‌باشد.\n",
    "</font>\n",
    "</div>"
   ]
  },
  {
   "cell_type": "markdown",
   "metadata": {},
   "source": [
    "<div dir='rtl'>\n",
    "<h1> آماده‌سازی دیتاست</h1>\n",
    "<p>\n",
    "دیتاستی که در اختیار شما قرار گرفته است، دارای سطر‌هایی می‌باشد که دارای مقدار NaN می‌باشد. برای اینکه بتوانید با این دیتاست کار کنید، باید ابتدا این سطر‌ها را حذف کنید.\n",
    "</p>\n",
    "</div>"
   ]
  },
  {
   "cell_type": "code",
   "execution_count": 2,
   "metadata": {},
   "outputs": [],
   "source": [
    "import pandas as pd\n",
    "# load the dataset and remove rows with missing values\n",
    "df = pd.read_csv(\"./data.csv\").dropna()"
   ]
  },
  {
   "cell_type": "markdown",
   "metadata": {},
   "source": [
    "<div dir='rtl'>\n",
    "<h1> Preprocessing (پیش پردازش)</h1>\n",
    "<p>\n",
    "بسیاری از داده ‌ها دارای مقادیر زیادی اطلاعات اضافه هستند که در پردازش ها به آن نیازی نیست و یا باعث ایجاد خطا میشوند.\n",
    "دراین بخش داده را از دیتابیس مورد نظر خوانده\n",
    "  و سپس پیش پردازش های مورد نیاز را اعمال کنید تا متن پیش پردازش شده را تولید کنید.\n",
    "پس از اتمام پیش پردازش سایر عملیات گفته شده در ادامه را بر\n",
    "روی متن ایجاد شده انجام میدهیم.\n",
    "\n",
    "\n",
    "کلاس\n",
    "\"Preprocessor\"\n",
    "عملیات پیش پردازش را انجام میدهد. نام توابع عمل های مورد نظر نوشته شده است و که با توجه به آن باید کد مخصوص هر یک نوشته شود. تابع\n",
    "\"preprocessor\"\n",
    "تابع اصلی این کلاس است که متن بدون پیش پردازش را گرفته و پردازش های مورد نظر را در آن اعمال میکند و متن مورد نظر را ایجاد میکند.\n",
    "\n",
    "در این بخش میتوانید از کتابخانه های آماده مانند\n",
    "<a href=\"https://www.nltk.org/\">NLTK</a>\n",
    "و\n",
    "<a href=\"https://spacy.io/\">SpaCy</a>\n",
    "استفاده کنید.\n",
    "</p>\n",
    "</div>"
   ]
  },
  {
   "cell_type": "code",
   "execution_count": 3,
   "metadata": {},
   "outputs": [],
   "source": [
    "import nltk\n",
    "from nltk.corpus import stopwords as nltk_stopwords\n",
    "import contractions\n",
    "from nltk.stem import LancasterStemmer, WordNetLemmatizer\n",
    "import re\n",
    "\n",
    "\n",
    "class Preprocessor:\n",
    "    def __init__(self, stopwords_path=\"\"):\n",
    "        # Create a variable of stop words.\n",
    "        self.stopwords = nltk_stopwords\n",
    "\n",
    "    def preprocess(self, text):\n",
    "        text = self.remove_links(text)\n",
    "        text = self.replace_contractions(text)\n",
    "        words = self.word_tokenize(text)\n",
    "        words = self.stem_words(words)\n",
    "        words = self.lemmatize_verbs(words)\n",
    "\n",
    "        return self.normalize(words)\n",
    "\n",
    "    def normalize(self, text):\n",
    "        # Normalize text (lower case, stemming, lemmatization, etc.)\n",
    "        text = self.to_lowercase(text)\n",
    "        text = self.remove_punctuations(text)\n",
    "        text = self.remove_stopwords(text)\n",
    "        return text\n",
    "\n",
    "    def remove_links(self, text):\n",
    "        # Remove links\n",
    "        return re.sub(r\"http\\S+\", \"\", text)\n",
    "\n",
    "    def remove_punctuations(self, text):\n",
    "        # Remove punctutaions\n",
    "        new_words = []\n",
    "        for word in text:\n",
    "            new_word = re.sub(r\"[^\\w\\s]\", \"\", word)\n",
    "            if new_word != \"\":\n",
    "                new_words.append(new_word)\n",
    "        return new_words\n",
    "\n",
    "    def word_tokenize(self, text):\n",
    "        # Tokenize text\n",
    "        return nltk.word_tokenize(text)\n",
    "\n",
    "    def remove_stopwords(self, words):\n",
    "        new_words = []\n",
    "        for word in words:\n",
    "            if word not in self.stopwords.words(\"english\"):\n",
    "                new_words.append(word)\n",
    "        return new_words\n",
    "\n",
    "    # Self added functions\n",
    "    def stem_words(self, text):\n",
    "        stemmer = LancasterStemmer()\n",
    "        stems = []\n",
    "        for word in text:\n",
    "            stem = stemmer.stem(word)\n",
    "            stems.append(stem)\n",
    "        return stems\n",
    "\n",
    "    def lemmatize_verbs(self, text):\n",
    "        lemmatizer = WordNetLemmatizer()\n",
    "        lemmas = []\n",
    "        for word in text:\n",
    "            lemma = lemmatizer.lemmatize(word, pos=\"v\")\n",
    "            lemmas.append(lemma)\n",
    "        return lemmas\n",
    "\n",
    "    def to_lowercase(self, text):\n",
    "        new_words = []\n",
    "        for word in text:\n",
    "            new_word = word.lower()\n",
    "            new_words.append(new_word)\n",
    "        return new_words\n",
    "\n",
    "    def replace_contractions(self, text):\n",
    "        return contractions.fix(text)"
   ]
  },
  {
   "cell_type": "markdown",
   "metadata": {},
   "source": [
    "<div dir='rtl'>\n",
    "<h1>ساخت نمایه</h1>\n",
    "<p>\n",
    "شما در حال توسعه یک موتور جستجوی سریع هستید که از نمایه سازی پویا پشتیبانی می کند. موتور جستجو اسناد جدید را در قالب دسته‌هایی کوچک‌تر   \n",
    "(batch) هندل می‌کند. در پایان هر روز، این دسته‌ها با استفاده از استراتژی ادغام لگاریتمی ادغام می شوند. هدف به حداقل رساندن هزینه ادغام است.  \n",
    "مراحلی که باید برای حل این مسئله انجام دهید عبارتند از:\n",
    "<li>توکن‌بندی و نرمال‌سازی متن از اسناد.</li>\n",
    "    <li>ایجاد یک index مرتب‌ شده برای هر دسته از اسناد.</li>\n",
    "    <li>ادغام بهینه چند دسته از indexها با استفاده از یک استراتژی ادغام لگاریتمی.</li>\n",
    "وظیفه شما این است که بخش‌های خالی <strong>(مشخص شده به‌صورت {TODO})</strong> کد را پر کنید تا موتور جستجو عملی شود.\n",
    "</p>\n",
    "</div>"
   ]
  },
  {
   "cell_type": "markdown",
   "metadata": {},
   "source": [
    "<div dir='rtl'>\n",
    "<h3> دستورات </h3>\n",
    "<li>متد <code>sort_based_index_construction</code> از <code>DocumentBatch</code>:</li>\n",
    "<p>هر سند را با استفاده از تابع‌هایی که در قسمت قبل نوشتید، عمل preprocessing را روی آن انجام دهید.</p>\n",
    "<p>برای هر توکن، شناسه سند را به فهرست معکوس (inverted index) برای آن توکن اضافه کنید.</p>\n",
    "<li>متد <code>add_batch</code> در <code>FastSearchEngine</code></li>\n",
    "<p>فهرست معکوس برای دسته (batch) را ایجاد کنید.</p>\n",
    "<p>این دسته را به فهرست‌های روزانه اضافه کنید.</p>\n",
    "<li>متد <code>end_of_day_merge</code> از <code>FastSearchEngine:</code></li>\n",
    "<p>استراتژی ادغام لگاریتمی را پیاده‌سازی کنید تا به صورت بهینه فهرست‌های روزانه را با فهرست اصلی ادغام کنید.</p>"
   ]
  },
  {
   "cell_type": "code",
   "execution_count": 19,
   "metadata": {},
   "outputs": [
    {
     "name": "stdout",
     "output_type": "stream",
     "text": [
      "deque([Index<rec, 2, {0}>, Index<year, 2, {0}>, Index<many, 4, {0, 1}>, Index<apply, 14, {0, 1}>, Index<hav, 2, {0}>, Index<emerg, 2, {0}>, Index<wher, 4, {0}>, Index<demand, 2, {0}>, Index<commun, 6, {0}>, Index<larg, 4, {0}>, Index<numb, 6, {0}>, Index<smallsize, 2, {0}>, Index<lowcost, 2, {0}>, Index<nod, 10, {0}>, Index<becom, 2, {0}>, Index<necess, 2, {0}>, Index<involv, 2, {0}>, Index<exampl, 2, {0}>, Index<radio, 2, {0}>, Index<frequ, 2, {0}>, Index<id, 4, {0, 1}>, Index<rfid, 2, {0}>, Index<smart, 2, {0}>, Index<card, 2, {0}>, Index<network, 2, {0}>, Index<ev, 2, {0}>, Index<mobl, 2, {0}>, Index<comput, 2, {0}>, Index<dev, 2, {0}>, Index<gen, 2, {0}>, Index<crit, 8, {0, 1}>, Index<energy, 12, {0, 1}>, Index<constraint, 4, {0}>, Index<impos, 2, {0}>, Index<access, 6, {0, 1}>, Index<protocol, 6, {0}>, Index<us, 4, {0, 1}>, Index<thes, 2, {0}>, Index<system, 4, {0}>, Index<tot, 2, {0}>, Index<tim, 4, {0}>, Index<nee, 14, {0, 1}>, Index<act, 4, {0}>, Index<transmit, 2, {0}>, Index<receiv, 2, {0}>, Index<inform, 6, {0}>, Index<minim, 4, {0}>, Index<anoth, 2, {0}>, Index<gre, 4, {0, 1}>, Index<interest, 4, {0}>, Index<broadcastbased, 4, {0}>, Index<comp, 4, {0, 1}>, Index<tradit, 2, {0}>, Index<unicast, 4, {0}>, Index<dat, 20, {0, 1}>, Index<transf, 4, {0}>, Index<much, 2, {0}>, Index<mor, 2, {0}>, Index<efficy, 4, {0, 1}>, Index<dissemin, 2, {0}>, Index<ther, 2, {0}>, Index<high, 2, {0}>, Index<degr, 2, {0}>, Index<common, 2, {0}>, Index<among, 2, {0}>, Index<unlik, 2, {0}>, Index<prevy, 2, {0}>, Index<work, 4, {0, 1}>, Index<energyconserving, 2, {0}>, Index<propos, 2, {0}>, Index<evalu, 2, {0}>, Index<slot, 2, {0}>, Index<dur, 2, {0}>, Index<stat, 2, {0}>, Index<whil, 4, {0, 1}>, Index<delay, 2, {0}>, Index<ar, 6, {0, 1}>, Index<keep, 2, {0}>, Index<low, 2, {0}>, Index<networkonchip, 2, {1}>, Index<noc, 10, {1}>, Index<design, 8, {1}>, Index<foc, 2, {1}>, Index<maxim, 2, {1}>, Index<perform, 6, {1}>, Index<del, 6, {1}>, Index<cor, 2, {1}>, Index<lat, 6, {1}>, Index<yet, 2, {1}>, Index<achiev, 4, {1}>, Index<argu, 2, {1}>, Index<import, 2, {1}>, Index<ear, 6, {1}>, Index<address, 2, {1}>, Index<thi, 2, {1}>, Index<expl, 2, {1}>, Index<cmps, 2, {1}>, Index<cach, 2, {1}>, Index<fetch, 8, {1}>, Index<bulk, 2, {1}>, Index<block, 2, {1}>, Index<multipl, 2, {1}>, Index<word, 6, {1}>, Index<depend, 2, {1}>, Index<mem, 2, {1}>, Index<pattern, 2, {1}>, Index<som, 2, {1}>, Index<right, 2, {1}>, Index<away, 2, {1}>, Index<oth, 2, {1}>, Index<soon, 2, {1}>, Index<noncritical, 2, {1}>, Index<wid, 2, {1}>, Index<ring, 2, {1}>, Index<limit, 2, {1}>, Index<study, 2, {1}>, Index<impact, 2, {1}>, Index<criticalityoblivious, 2, {1}>, Index<wast, 4, {1}>, Index<375, 2, {1}>, Index<furtherm, 2, {1}>, Index<623, 2, {1}>, Index<pres, 2, {1}>, Index<nocnoc, 2, {1}>, Index<pract, 2, {1}>, Index<criticalityaware, 2, {1}>, Index<605, 2, {1}>, Index<sav, 2, {1}>, Index<loss, 2, {1}>, Index<mov, 2, {1}>, Index<toward, 2, {1}>, Index<ideallyefficient, 2, {1}>, Index<autonom, 12, {0}>, Index<vehic, 12, {0}>, Index<must, 4, {0}>, Index<op, 6, {0}>, Index<saf, 4, {0}>, Index<dynam, 6, {0}>, Index<continuouslychanging, 4, {0}>, Index<environ, 22, {0}>, Index<howev, 2, {0}>, Index<comply, 4, {0}>, Index<ful, 2, {0}>, Index<vary, 10, {0, 1}>, Index<typ, 2, {0}>, Index<uncertainty, 2, {0}>, Index<addit, 2, {0}>, Index<many, 4, {0, 1}>, Index<config, 12, {0}>, Index<includ, 2, {0}>, Index<stat, 8, {0, 1}>, Index<obstac, 2, {0}>, Index<avoid, 4, {0}>, Index<collid, 8, {0}>, Index<though, 2, {0}>, Index<approach, 6, {0, 1}>, Index<target, 2, {0}>, Index<hav, 2, {0}>, Index<show, 8, {0, 1}>, Index<prom, 2, {0}>, Index<result, 6, {0, 1}>, Index<effect, 4, {0}>, Index<deal, 4, {0}>, Index<continuouschanging, 2, {0}>, Index<limit, 2, {0}>, Index<thu, 2, {0}>, Index<ess, 2, {0}>, Index<learn, 8, {0}>, Index<real, 2, {0}>, Index<und, 2, {0}>, Index<test, 2, {0}>, Index<regard, 2, {0}>, Index<abl, 4, {0, 1}>, Index<feat, 2, {0}>, Index<ag, 2, {0}>, Index<interact, 2, {0}>, Index<reinforc, 2, {0}>, Index<rl, 4, {0}>, Index<gre, 2, {0}>, Index<pot, 2, {0}>, Index<problem, 2, {0}>, Index<requir, 2, {0}>, Index<adapt, 2, {0}>, Index<thi, 2, {0}>, Index<end, 2, {0}>, Index<pres, 2, {0}>, Index<rlbased, 2, {0}>, Index<ie, 4, {0}>, Index<deepcollid, 10, {0}>, Index<intellig, 2, {0}>, Index<lead, 2, {0}>, Index<crash, 2, {0}>, Index<employ, 4, {0, 1}>, Index<deep, 2, {0}>, Index<qlearning, 2, {0}>, Index<solv, 2, {0}>, Index<select, 2, {0}>, Index<prob, 2, {0}>, Index<meas, 2, {0}>, Index<construct, 2, {0}>, Index<reward, 2, {0}>, Index<funct, 2, {0}>, Index<train, 2, {0}>, Index<four, 2, {0}>, Index<model, 4, {0, 1}>, Index<conduc, 2, {0}>, Index<expery, 4, {0, 1}>, Index<comp, 6, {0, 1}>, Index<two, 2, {0}>, Index<baselin, 4, {0}>, Index<random, 4, {0, 1}>, Index<greedy, 2, {0}>, Index<demonst, 2, {0}>, Index<sign, 4, {0, 1}>, Index<bet, 2, {0}>, Index<gen, 6, {0, 1}>, Index<also, 2, {0}>, Index<provid, 2, {0}>, Index<recommend, 2, {0}>, Index<suit, 2, {0}>, Index<tim, 8, {0, 1}>, Index<interv, 2, {0}>, Index<bas, 4, {0, 1}>, Index<diff, 2, {0}>, Index<road, 2, {0}>, Index<structure, 2, {0}>, Index<propos, 2, {1}>, Index<scal, 2, {1}>, Index<efficy, 2, {1}>, Index<paramet, 10, {1}>, Index<blockbased, 2, {1}>, Index<analys, 4, {1}>, Index<ssta, 4, {1}>, Index<algorithm, 2, {1}>, Index<incorp, 2, {1}>, Index<gauss, 2, {1}>, Index<nongauss, 6, {1}>, Index<distribut, 6, {1}>, Index<capt, 2, {1}>, Index<spat, 4, {1}>, Index<correl, 10, {1}>, Index<us, 4, {1}>, Index<gridbas, 2, {1}>, Index<preprocess, 2, {1}>, Index<step, 2, {1}>, Index<independ, 4, {1}>, Index<compon, 2, {1}>, Index<transform, 2, {1}>, Index<set, 4, {1}>, Index<ar, 6, {1}>, Index<giv, 2, {1}>, Index<mom, 2, {1}>, Index<pad, 2, {1}>, Index<acuteapproximationbased, 2, {1}>, Index<momentmatching, 2, {1}>, Index<scheme, 2, {1}>, Index<repres, 2, {1}>, Index<preserv, 2, {1}>, Index<inform, 2, {1}>, Index<prop, 2, {1}>, Index<canon, 2, {1}>, Index<form, 2, {1}>, Index<proc, 4, {1}>, Index<circuit, 8, {1}>, Index<delay, 4, {1}>, Index<reason, 2, {1}>, Index<smal, 2, {1}>, Index<predict, 2, {1}>, Index<er, 4, {1}>, Index<iscas89, 2, {1}>, Index<benchmark, 2, {1}>, Index<mont, 2, {1}>, Index<carlo, 2, {1}>, Index<sim, 2, {1}>, Index<obtain, 2, {1}>, Index<av, 2, {1}>, Index<099, 2, {1}>, Index<205, 2, {1}>, Index<233, 2, {1}>, Index<236, 2, {1}>, Index<respect, 2, {1}>, Index<mean, 2, {1}>, Index<standard, 2, {1}>, Index<devy, 2, {1}>, Index<5, 4, {1}>, Index<95, 2, {1}>, Index<quantil, 2, {1}>, Index<point, 2, {1}>, Index<handl, 2, {1}>, Index<256, 2, {1}>, Index<min, 2, {1}>, Index<runtim, 2, {1}>, Index<g, 4, {1}>, Index<gat, 2, {1}>, Index<layout, 2, {1}>, Index<grid, 2, {1}>, Index<complex, 2, {1}>, Index<gg, 2, {1}>])\n",
      "deque([Index<parallel, 4, {0}>, Index<mem, 14, {0}>, Index<access, 10, {0}>, Index<nest, 4, {0}>, Index<loop, 6, {0}>, Index<crit, 2, {0}>, Index<challeng, 2, {0}>, Index<facilit, 2, {0}>, Index<pipelin, 2, {0}>, Index<effect, 2, {0}>, Index<approach, 2, {0}>, Index<highlevel, 2, {0}>, Index<synthes, 2, {0}>, Index<fieldprogrammable, 2, {0}>, Index<gat, 2, {0}>, Index<array, 2, {0}>, Index<map, 2, {0}>, Index<thes, 2, {0}>, Index<multipl, 2, {0}>, Index<onchip, 4, {0}>, Index<bank, 6, {0}>, Index<us, 6, {0}>, Index<partit, 8, {0}>, Index<techn, 2, {0}>, Index<thi, 8, {0, 1}>, Index<pap, 2, {0}>, Index<propos, 8, {0}>, Index<efficy, 4, {0}>, Index<algorithm, 6, {0}>, Index<low, 4, {0}>, Index<overhead, 6, {0}>, Index<tim, 8, {0, 1}>, Index<complex, 2, {0}>, Index<dat, 10, {0}>, Index<via, 2, {0}>, Index<reus, 6, {0}>, Index<find, 2, {0}>, Index<apply, 4, {0}>, Index<im, 6, {0}>, Index<video, 4, {0}>, Index<process, 4, {0}>, Index<larg, 2, {0}>, Index<amount, 2, {0}>, Index<among, 2, {0}>, Index<diff, 4, {0, 1}>, Index<mot, 2, {0}>, Index<observ, 2, {0}>, Index<cach, 2, {0}>, Index<reg, 4, {0}>, Index<org, 2, {0}>, Index<chain, 2, {0}>, Index<nonreus, 2, {0}>, Index<ar, 6, {0, 1}>, Index<sep, 2, {0}>, Index<sev, 2, {0}>, Index<rev, 2, {0}>, Index<ex, 2, {0}>, Index<pad, 2, {0}>, Index<method, 12, {0, 1}>, Index<cov, 2, {0}>, Index<cas, 2, {0}>, Index<occur, 2, {0}>, Index<frequ, 2, {0}>, Index<wherein, 2, {0}>, Index<certain, 2, {0}>, Index<compon, 2, {0}>, Index<vect, 2, {0}>, Index<zero, 4, {0}>, Index<expery, 2, {0}>, Index<result, 2, {0}>, Index<hav, 2, {0}>, Index<demonst, 2, {0}>, Index<comp, 2, {0}>, Index<stateoftheart, 2, {0}>, Index<term, 2, {0}>, Index<execut, 4, {0}>, Index<resourc, 2, {0}>, Index<pow, 4, {0}>, Index<consum, 4, {0}>, Index<across, 2, {0}>, Index<wid, 4, {0}>, Index<ring, 2, {0}>, Index<pattern, 6, {0}>, Index<extract, 2, {0}>, Index<test, 2, {0}>, Index<typ, 2, {0}>, Index<less, 2, {0}>, Index<millisecond, 2, {0}>, Index<numb, 2, {0}>, Index<requir, 2, {0}>, Index<reduc, 6, {0}>, Index<597, 2, {0}>, Index<av, 4, {0}>, Index<lead, 2, {0}>, Index<782, 2, {0}>, Index<lookup, 2, {0}>, Index<tabl, 2, {0}>, Index<655, 2, {0}>, Index<flipflop, 2, {0}>, Index<371, 2, {0}>, Index<dsp48es, 2, {0}>, Index<theref, 2, {0}>, Index<748, 2, {0}>, Index<dynam, 2, {0}>, Index<moreov, 2, {0}>, Index<stor, 2, {0}>, Index<incur, 2, {0}>, Index<filt, 2, {0}>, Index<work, 2, {1}>, Index<survey, 2, {1}>, Index<maj, 4, {1}>, Index<modelbased, 2, {1}>, Index<act, 6, {1}>, Index<sens, 6, {1}>, Index<robot, 6, {1}>, Index<incorp, 2, {1}>, Index<follow, 2, {1}>, Index<aspect, 4, {1}>, Index<wher, 4, {1}>, Index<posit, 2, {1}>, Index<ii, 2, {1}>, Index<mak, 4, {1}>, Index<decid, 4, {1}>, Index<next, 4, {1}>, Index<ord, 2, {1}>, Index<maxim, 2, {1}>, Index<inform, 2, {1}>, Index<gain, 2, {1}>, Index<minim, 2, {1}>, Index<cost, 2, {1}>, Index<cont, 2, {1}>, Index<second, 2, {1}>, Index<mov, 2, {1}>, Index<step, 2, {1}>, Index<emphas, 2, {1}>, Index<bay, 2, {1}>, Index<solv, 2, {1}>, Index<problem, 2, {1}>, Index<pro, 2, {1}>, Index<con, 2, {1}>, Index<discuss, 2, {1}>, Index<spec, 2, {1}>, Index<pay, 2, {1}>, Index<criter, 2, {1}>, Index<pres, 2, {0}>, Index<concur, 10, {0}>, Index<model, 6, {0}>, Index<allow, 2, {0}>, Index<reason, 2, {0}>, Index<execut, 2, {0}>, Index<spec, 2, {0}>, Index<main, 2, {0}>, Index<focus, 2, {0}>, Index<dataflow, 2, {0}>, Index<stream, 2, {0}>, Index<apply, 4, {0}>, Index<tasklevel, 2, {0}>, Index<aim, 2, {0}>, Index<provid, 4, {0}>, Index<insight, 2, {0}>, Index<bottleneck, 2, {0}>, Index<support, 2, {0}>, Index<perform, 2, {0}>, Index<impl, 2, {0}>, Index<independ, 6, {0, 1}>, Index<optim, 2, {0}>, Index<attempt, 2, {1}>, Index<bet, 2, {1}>, Index<understand, 2, {1}>, Index<random, 28, {1}>, Index<loc, 6, {1}>, Index<distribut, 4, {1}>, Index<graph, 4, {1}>, Index<algorithm, 24, {1}>, Index<expl, 2, {1}>, Index<us, 2, {1}>, Index<gain, 2, {1}>, Index<first, 2, {1}>, Index<ask, 2, {1}>, Index<quest, 2, {1}>, Index<much, 4, {1}>, Index<nee, 2, {1}>, Index<obtain, 2, {1}>, Index<efficy, 4, {1}>, Index<show, 8, {1}>, Index<al, 6, {1}>, Index<check, 4, {1}>, Index<problem, 6, {1}>, Index<poly, 16, {1}>, Index<log, 22, {1}>, Index<ntime, 8, {1}>, Index<ther, 8, {1}>, Index<ar, 8, {1}>, Index<ev, 2, {1}>, Index<eith, 2, {1}>, Index<singl, 2, {1}>, Index<priv, 6, {1}>, Index<bite, 6, {1}>, Index<nneighborhood, 2, {1}>, Index<ii, 4, {1}>, Index<diff, 2, {1}>, Index<nod, 2, {1}>, Index<nwise, 2, {1}>, Index<n, 8, {1}>, Index<glob, 2, {1}>, Index<shar, 2, {1}>, Index<second, 2, {1}>, Index<study, 2, {1}>, Index<improv, 6, {1}>, Index<er, 2, {1}>, Index<prob, 10, {1}>, Index<success, 8, {1}>, Index<1n2, 4, {1}>, Index<ε, 6, {1}>, Index<2, 2, {1}>, Index<mor, 4, {1}>, Index<gen, 2, {1}>, Index<tround, 2, {1}>, Index<εlog, 2, {1}>, Index<2t, 2, {1}>, Index<also, 4, {1}>, Index<122, 2, {1}>, Index<som, 2, {1}>, Index<0, 2, {1}>, Index<derandom, 4, {1}>, Index<determin, 4, {1}>, Index<direct, 2, {1}>, Index<ment, 2, {1}>, Index<abov, 4, {1}>, Index<reduc, 2, {1}>, Index<amount, 2, {1}>, Index<see, 2, {1}>, Index<part, 2, {1}>, Index<ex, 2, {1}>, Index<cas, 2, {1}>, Index<sign, 4, {1}>, Index<result, 2, {1}>, Index<would, 4, {1}>, Index<lead, 2, {1}>, Index<maj, 2, {1}>, Index<breakthrough, 2, {1}>, Index<imply, 2, {1}>, Index<wid, 2, {1}>, Index<class, 2, {1}>])\n",
      "deque([Index<fail, 10, {0}>, Index<detect, 10, {0, 1}>, Index<ar, 8, {0, 1}>, Index<class, 10, {0}>, Index<mech, 2, {0}>, Index<provid, 4, {0}>, Index<inform, 2, {0}>, Index<process, 2, {0}>, Index<help, 2, {0}>, Index<system, 20, {0, 1}>, Index<cop, 2, {0}>, Index<high, 2, {0}>, Index<dynam, 8, {0}>, Index<selforganizing, 2, {0}>, Index<unstruct, 2, {0}>, Index<mobl, 2, {0}>, Index<wireless, 2, {0}>, Index<network, 10, {0}>, Index<unrely, 2, {0}>, Index<spec, 2, {0}>, Index<interest, 2, {0}>, Index<becaus, 2, {0}>, Index<meet, 2, {0}>, Index<weakest, 2, {0}>, Index<assum, 4, {0}>, Index<abl, 4, {0}>, Index<solv, 2, {0}>, Index<funda, 2, {0}>, Index<problem, 2, {0}>, Index<design, 8, {0, 1}>, Index<depend, 2, {0}>, Index<unfortun, 2, {0}>, Index<neg, 2, {0}>, Index<result, 4, {0, 1}>, Index<stat, 2, {0}>, Index<impl, 8, {0, 1}>, Index<unknown, 4, {0}>, Index<memb, 6, {0}>, Index<ful, 4, {0}>, Index<knowledg, 2, {0}>, Index<wel, 2, {0}>, Index<commun, 2, {0}>, Index<connect, 2, {0}>, Index<long, 2, {0}>, Index<appropry, 2, {0}>, Index<new, 4, {0}>, Index<scenario, 2, {0}>, Index<thi, 4, {0, 1}>, Index<pap, 2, {0}>, Index<discuss, 4, {0, 1}>, Index<condit, 2, {0}>, Index<model, 2, {0}>, Index<defin, 2, {0}>, Index<nam, 2, {0}>, Index<sm, 2, {0}>, Index<adapt, 2, {0}>, Index<property, 2, {0}>, Index<fourstage, 2, {1}>, Index<unidirect, 2, {1}>, Index<ring, 2, {1}>, Index<freespac, 2, {1}>, Index<opt, 34, {1}>, Index<interconnect, 8, {1}>, Index<analys, 2, {1}>, Index<charact, 4, {1}>, Index<us, 2, {1}>, Index<within, 2, {1}>, Index<compl, 2, {1}>, Index<metaloxide, 2, {1}>, Index<semiconductorselfelectroopticeffectdevicebased, 2, {1}>, Index<backpl, 2, {1}>, Index<demonst, 2, {1}>, Index<fit, 2, {1}>, Index<standard, 2, {1}>, Index<vme, 2, {1}>, Index<chass, 2, {1}>, Index<hybrid, 6, {1}>, Index<microlensmacrolen, 2, {1}>, Index<microl, 2, {1}>, Index<relay, 6, {1}>, Index<wer, 4, {1}>, Index<arrang, 4, {1}>, Index<maxim, 2, {1}>, Index<lenstowaist, 2, {1}>, Index<config, 4, {1}>, Index<rout, 4, {1}>, Index<beam, 8, {1}>, Index<pow, 8, {1}>, Index<supply, 4, {1}>, Index<transceiv, 2, {1}>, Index<array, 8, {1}>, Index<whil, 2, {1}>, Index<macrol, 2, {1}>, Index<telec, 2, {1}>, Index<sign, 2, {1}>, Index<stag, 8, {1}>, Index<follow, 2, {1}>, Index<aspect, 2, {1}>, Index<paramet, 2, {1}>, Index<im, 2, {1}>, Index<map, 2, {1}>, Index<twodimensional, 4, {1}>, Index<align, 2, {1}>, Index<tol, 2, {1}>, Index<budget, 2, {1}>, Index<overal, 2, {1}>, Index<includ, 2, {1}>, Index<compon, 2, {1}>, Index<subsystem, 2, {1}>, Index<prealign, 2, {1}>, Index<fin, 2, {1}>, Index<assembl, 2, {1}>, Index<pres, 2, {1}>, Index<stagetostag, 2, {1}>, Index<adjust, 2, {1}>, Index<rot, 2, {1}>, Index<er, 4, {1}>, Index<005, 2, {1}>, Index<degr, 2, {1}>, Index<lat, 2, {1}>, Index<offset, 2, {1}>, Index<35, 2, {1}>, Index<mum, 2, {1}>, Index<meas, 2, {1}>, Index<throughput, 4, {1}>, Index<good, 2, {1}>, Index<agr, 2, {1}>, Index<lowerbound, 2, {1}>, Index<predict, 2, {1}>, Index<obtain, 2, {1}>, Index<theoret, 2, {1}>, Index<202, 2, {1}>, Index<db, 4, {1}>, Index<fib, 4, {1}>, Index<input, 4, {1}>, Index<mod, 2, {1}>, Index<255, 2, {1}>, Index<plan, 2, {1}>, Index<effect, 2, {0}>, Index<cu, 18, {0}>, Index<microstruct, 2, {0}>, Index<electromigr, 2, {0}>, Index<investig, 2, {0}>, Index<vary, 2, {0}>, Index<grain, 10, {0}>, Index<siz, 4, {0}>, Index<distribut, 4, {0}>, Index<waf, 4, {0}>, Index<achiev, 2, {0}>, Index<adjust, 2, {0}>, Index<process, 4, {0, 1}>, Index<step, 2, {0}>, Index<aft, 2, {0}>, Index<electropl, 2, {0}>, Index<bef, 2, {0}>, Index<chem, 2, {0}>, Index<mech, 2, {0}>, Index<pol, 2, {0}>, Index<void, 2, {0}>, Index<grow, 2, {0}>, Index<morpholog, 2, {0}>, Index<observ, 2, {0}>, Index<insitu, 2, {0}>, Index<exsitu, 2, {0}>, Index<scan, 2, {0}>, Index<electron, 2, {0}>, Index<microscop, 2, {0}>, Index<sem, 2, {0}>, Index<techn, 2, {0}>, Index<lifetim, 4, {0}>, Index<mass, 4, {0}>, Index<flow, 4, {0}>, Index<sampl, 2, {0}>, Index<bamboo, 4, {0}>, Index<near, 2, {0}>, Index<bamboopolycrystalline, 2, {0}>, Index<mixt, 2, {0}>, Index<polycrystallin, 4, {0}>, Index<structure, 4, {0}>, Index<wer, 4, {0}>, Index<meas, 2, {0}>, Index<introduc, 2, {0}>, Index<lin, 4, {0}>, Index<fin, 2, {0}>, Index<65, 2, {0}>, Index<nm, 2, {0}>, Index<nod, 2, {0}>, Index<technolog, 4, {0, 1}>, Index<beyond, 2, {0}>, Index<mark, 2, {0}>, Index<reduc, 2, {0}>, Index<rely, 2, {0}>, Index<smal, 2, {0}>, Index<result, 6, {0, 1}>, Index<short, 2, {0}>, Index<fast, 4, {0, 1}>, Index<act, 2, {0}>, Index<energy, 2, {0}>, Index<along, 2, {0}>, Index<cuamorphous, 2, {0}>, Index<asicxnyhz, 2, {0}>, Index<interfac, 2, {0}>, Index<bind, 2, {0}>, Index<find, 2, {0}>, Index<095, 2, {0}>, Index<079, 2, {0}>, Index<ev, 2, {0}>, Index<respect, 2, {0}>, Index<nandflash, 2, {1}>, Index<stor, 6, {1}>, Index<prefer, 2, {1}>, Index<method, 2, {1}>, Index<accel, 2, {1}>, Index<io, 4, {1}>, Index<intend, 4, {1}>, Index<apply, 6, {1}>, Index<becaus, 2, {1}>, Index<high, 4, {1}>, Index<throughput, 4, {1}>, Index<randomread, 2, {1}>, Index<perform, 2, {1}>, Index<howev, 2, {1}>, Index<cost, 2, {1}>, Index<per, 2, {1}>, Index<gb, 2, {1}>, Index<flash, 18, {1}>, Index<rel, 4, {1}>, Index<magnet, 4, {1}>, Index<disk, 4, {1}>, Index<prev, 2, {1}>, Index<larg, 2, {1}>, Index<datac, 2, {1}>, Index<mov, 2, {1}>, Index<dat, 2, {1}>, Index<entir, 2, {1}>, Index<onto, 2, {1}>, Index<med, 2, {1}>, Index<norm, 2, {1}>, Index<limit, 2, {1}>, Index<amount, 2, {1}>, Index<us, 10, {1}>, Index<front, 2, {1}>, Index<spee, 2, {1}>, Index<access, 2, {1}>, Index<persist, 2, {1}>, Index<subsystem, 2, {1}>, Index<rec, 2, {1}>, Index<ther, 2, {1}>, Index<hav, 4, {1}>, Index<propos, 2, {1}>, Index<altern, 2, {1}>, Index<behind, 2, {1}>, Index<dram, 2, {1}>, Index<part, 4, {1}>, Index<volatil, 2, {1}>, Index<main, 2, {1}>, Index<mem, 2, {1}>, Index<system, 10, {1}>, Index<config, 2, {1}>, Index<pres, 4, {1}>, Index<transp, 2, {1}>, Index<mak, 2, {1}>, Index<compet, 2, {1}>, Index<architect, 2, {1}>, Index<design, 2, {1}>, Index<point, 2, {1}>, Index<wher, 2, {1}>, Index<best, 2, {1}>, Index<fut, 2, {1}>, Index<thi, 2, {1}>, Index<pap, 2, {1}>, Index<evalu, 2, {1}>, Index<two, 2, {1}>, Index<stateoftheart, 2, {1}>, Index<comp, 2, {1}>, Index<adv, 2, {1}>, Index<approach, 2, {1}>, Index<tpcc, 2, {1}>, Index<online, 2, {1}>, Index<transact, 2, {1}>, Index<benchmark, 2, {1}>, Index<databas, 2, {1}>, Index<largest, 2, {1}>, Index<adopt, 2, {1}>, Index<due, 2, {1}>, Index<nat, 2, {1}>, Index<workload, 2, {1}>, Index<show, 2, {1}>, Index<cach, 2, {1}>, Index<improv, 2, {1}>, Index<56, 2, {1}>, Index<131, 2, {1}>, Index<hybrid, 2, {1}>, Index<mainmemory, 2, {1}>])\n",
      "deque([Index<noc, 12, {0}>, Index<network, 2, {0}>, Index<chip, 2, {0}>, Index<construct, 2, {0}>, Index<silicon, 2, {0}>, Index<photon, 2, {0}>, Index<micr, 10, {0}>, Index<impl, 4, {0, 1}>, Index<cmo, 2, {0}>, Index<technolog, 6, {0, 1}>, Index<integr, 2, {0}>, Index<process, 2, {0}>, Index<cor, 2, {0}>, Index<sam, 2, {0}>, Index<die, 2, {0}>, Index<two, 4, {0}>, Index<switch, 4, {0}>, Index<stat, 8, {0}>, Index<consum, 10, {0}>, Index<sign, 4, {0, 1}>, Index<less, 4, {0, 1}>, Index<pow, 8, {0}>, Index<oth, 4, {0, 1}>, Index<diff, 8, {0}>, Index<rout, 6, {0}>, Index<scheme, 2, {0}>, Index<lead, 2, {0}>, Index<numb, 4, {0}>, Index<highpower, 2, {0}>, Index<result, 4, {0, 1}>, Index<ear, 2, {0}>, Index<work, 6, {0, 1}>, Index<loopingbased, 2, {0}>, Index<algorithm, 10, {0}>, Index<propos, 6, {0, 1}>, Index<exploit, 2, {0}>, Index<charact, 2, {0}>, Index<minim, 2, {0}>, Index<benestype, 6, {0}>, Index<thi, 6, {0, 1}>, Index<provid, 2, {0}>, Index<opt, 2, {0}>, Index<solv, 4, {0}>, Index<pap, 4, {0, 1}>, Index<wil, 4, {0, 1}>, Index<show, 2, {0}>, Index<necess, 2, {0}>, Index<sufficy, 2, {0}>, Index<condit, 2, {0}>, Index<find, 2, {0}>, Index<optim, 2, {0}>, Index<also, 2, {0}>, Index<pres, 2, {0}>, Index<new, 4, {0}>, Index<comp, 2, {0}>, Index<prevy, 2, {0}>, Index<reduc, 2, {0}>, Index<highpowerconsumption, 2, {0}>, Index<many, 2, {0}>, Index<inlineformula, 8, {0}>, Index<texmath, 8, {0}>, Index<notation, 4, {0}>, Index<latex, 4, {0}>, Index<n, 6, {0}>, Index<2, 10, {0, 1}>, Index<cdot, 2, {0}>, Index<n2, 2, {0}>, Index<times, 2, {0}>, Index<certain, 2, {0}>, Index<interconnect, 2, {0}>, Index<pattern, 2, {0}>, Index<sev, 4, {1}>, Index<approach, 2, {1}>, Index<design, 6, {1}>, Index<faultsecure, 6, {1}>, Index<orand, 2, {1}>, Index<faulttoler, 2, {1}>, Index<digit, 8, {1}>, Index<finit, 2, {1}>, Index<input, 2, {1}>, Index<respons, 2, {1}>, Index<fir, 8, {1}>, Index<filt, 8, {1}>, Index<vary, 2, {1}>, Index<fault, 2, {1}>, Index<cov, 4, {1}>, Index<hardw, 4, {1}>, Index<efficy, 4, {1}>, Index<hav, 2, {1}>, Index<howev, 2, {1}>, Index<spec, 2, {1}>, Index<modern, 2, {1}>, Index<nanomet, 2, {1}>, Index<us, 10, {1}>, Index<er, 4, {1}>, Index<detect, 2, {1}>, Index<cod, 12, {1}>, Index<lik, 2, {1}>, Index<residu, 8, {1}>, Index<par, 2, {1}>, Index<report, 4, {1}>, Index<yet, 2, {1}>, Index<study, 2, {1}>, Index<multipliersaccumulator, 2, {1}>, Index<mac, 2, {1}>, Index<protect, 4, {1}>, Index<vert, 2, {1}>, Index<transpos, 4, {1}>, Index<wer, 2, {1}>, Index<synthes, 2, {1}>, Index<rc, 2, {1}>, Index<compil, 2, {1}>, Index<v81, 2, {1}>, Index<65, 2, {1}>, Index<nm, 2, {1}>, Index<obtain, 2, {1}>, Index<leav, 2, {1}>, Index<doubt, 2, {1}>, Index<could, 2, {1}>, Index<extrem, 2, {1}>, Index<becaus, 2, {1}>, Index<overhead, 2, {1}>, Index<16bit, 2, {1}>, Index<operand, 2, {1}>, Index<mod, 2, {1}>, Index<3, 2, {1}>, Index<techn, 2, {1}>, Index<dat, 2, {1}>, Index<unlik, 2, {1}>, Index<claim, 2, {1}>, Index<som, 4, {1}>, Index<rec, 2, {1}>, Index<el, 2, {1}>, Index<rul, 2, {1}>, Index<apply, 2, {1}>, Index<circuit, 2, {1}>, Index<guar, 2, {1}>, Index<100, 2, {1}>, Index<pres, 2, {0}>, Index<study, 2, {0}>, Index<analys, 6, {0}>, Index<vary, 14, {0, 1}>, Index<apply, 6, {0}>, Index<loc, 12, {0}>, Index<aw, 10, {0}>, Index<schedule, 18, {0}>, Index<algorithm, 12, {0}>, Index<focus, 2, {0}>, Index<effect, 16, {0, 1}>, Index<efficy, 10, {0, 1}>, Index<thes, 6, {0}>, Index<localityaware, 2, {0}>, Index<las, 8, {0}>, Index<observ, 12, {0}>, Index<hav, 2, {0}>, Index<field, 4, {0}>, Index<comput, 8, {0, 1}>, Index<sci, 2, {0}>, Index<univers, 2, {0}>, Index<behavy, 2, {0}>, Index<al, 2, {0}>, Index<tend, 2, {0}>, Index<ref, 4, {0}>, Index<rep, 2, {0}>, Index<among, 4, {0}>, Index<subset, 2, {0}>, Index<resourc, 2, {0}>, Index<within, 4, {0}>, Index<tim, 2, {0}>, Index<interv, 2, {0}>, Index<execut, 2, {0}>, Index<bas, 6, {0, 1}>, Index<gen, 2, {0}>, Index<object, 2, {0}>, Index<mem, 8, {0, 1}>, Index<pag, 4, {0}>, Index<sect, 2, {0}>, Index<databas, 2, {0}>, Index<record, 2, {0}>, Index<web, 2, {0}>, Index<work, 6, {0, 1}>, Index<mor, 6, {0, 1}>, Index<comp, 4, {0}>, Index<oth, 6, {0, 1}>, Index<system, 2, {0}>, Index<techn, 2, {0}>, Index<process, 4, {0, 1}>, Index<conceiv, 2, {0}>, Index<mak, 4, {0, 1}>, Index<dat, 20, {0, 1}>, Index<parallel, 2, {0}>, Index<run, 2, {0}>, Index<less, 2, {0}>, Index<loss, 2, {0}>, Index<inconsist, 2, {0}>, Index<clear, 2, {0}>, Index<ident, 2, {0}>, Index<achiev, 2, {0}>, Index<thi, 10, {0, 1}>, Index<purpos, 2, {0}>, Index<high, 2, {0}>, Index<fut, 2, {0}>, Index<consid, 2, {0}>, Index<point, 2, {0}>, Index<interest, 2, {0}>, Index<research, 2, {0}>, Index<due, 2, {0}>, Index<result, 6, {0, 1}>, Index<seism, 14, {1}>, Index<deno, 14, {1}>, Index<alway, 2, {1}>, Index<indispens, 2, {1}>, Index<step, 2, {1}>, Index<expl, 2, {1}>, Index<workflow, 2, {1}>, Index<qual, 2, {1}>, Index<direct, 2, {1}>, Index<affect, 2, {1}>, Index<subsequ, 2, {1}>, Index<invert, 2, {1}>, Index<migr, 2, {1}>, Index<im, 2, {1}>, Index<artic, 4, {1}>, Index<propos, 2, {1}>, Index<fast, 2, {1}>, Index<flex, 4, {1}>, Index<convolv, 4, {1}>, Index<neur, 4, {1}>, Index<network, 10, {1}>, Index<ffcnn, 6, {1}>, Index<dncnn, 4, {1}>, Index<contrast, 2, {1}>, Index<ex, 2, {1}>, Index<art, 2, {1}>, Index<intellig, 4, {1}>, Index<ai, 2, {1}>, Index<based, 2, {1}>, Index<enjoy, 2, {1}>, Index<sev, 2, {1}>, Index<desir, 2, {1}>, Index<property, 2, {1}>, Index<1, 4, {1}>, Index<downsampl, 2, {1}>, Index<upsc, 2, {1}>, Index<op, 2, {1}>, Index<sens, 2, {1}>, Index<reduc, 2, {1}>, Index<runtim, 2, {1}>, Index<requir, 2, {1}>, Index<whil, 2, {1}>, Index<maintain, 2, {1}>, Index<perform, 4, {1}>, Index<2, 4, {1}>, Index<introduc, 6, {1}>, Index<nois, 8, {1}>, Index<level, 2, {1}>, Index<map, 4, {1}>, Index<singl, 2, {1}>, Index<cnn, 2, {1}>, Index<model, 6, {1}>, Index<expect, 2, {1}>, Index<inherit, 2, {1}>, Index<handl, 2, {1}>, Index<diff, 2, {1}>, Index<paramet, 2, {1}>, Index<ev, 2, {1}>, Index<spat, 2, {1}>, Index<nonuniform, 2, {1}>, Index<anoth, 2, {1}>, Index<benefit, 2, {1}>, Index<increas, 2, {1}>, Index<noiselevel, 2, {1}>, Index<preserv, 4, {1}>, Index<us, 4, {1}>, Index<inform, 2, {1}>, Index<control, 2, {1}>, Index<tradeoff, 2, {1}>, Index<remov, 2, {1}>, Index<detail, 2, {1}>, Index<real, 4, {1}>, Index<main, 2, {1}>, Index<adv, 2, {1}>, Index<ar, 2, {1}>, Index<cont, 2, {1}>, Index<follow, 2, {1}>, Index<two, 2, {1}>, Index<aspect, 2, {1}>, Index<aug, 2, {1}>, Index<strategy, 2, {1}>, Index<overcom, 2, {1}>, Index<lack, 2, {1}>, Index<welllabeled, 2, {1}>, Index<sampl, 2, {1}>, Index<transf, 2, {1}>, Index<learn, 4, {1}>, Index<train, 4, {1}>, Index<welltrained, 2, {1}>, Index<synthet, 4, {1}>, Index<pretrain, 2, {1}>, Index<way, 2, {1}>, Index<gre, 4, {1}>, Index<accel, 2, {1}>, Index<optim, 2, {1}>, Index<ultim, 2, {1}>, Index<improv, 2, {1}>, Index<fin, 2, {1}>, Index<num, 2, {1}>, Index<expery, 2, {1}>, Index<prov, 2, {1}>, Index<method, 2, {1}>])\n",
      "deque([Index<develop, 2, {0}>, Index<marketbased, 4, {0}>, Index<mech, 4, {0}>, Index<en, 2, {0}>, Index<build, 2, {0}>, Index<smart, 2, {0}>, Index<microgrid, 2, {0}>, Index<op, 6, {0}>, Index<smo, 10, {0}>, Index<reg, 6, {0}>, Index<serv, 8, {0, 1}>, Index<reserv, 8, {0}>, Index<meet, 2, {0}>, Index<assocy, 4, {0}>, Index<oblig, 2, {0}>, Index<fast, 2, {0}>, Index<respons, 2, {0}>, Index<command, 2, {0}>, Index<issu, 2, {0}>, Index<wholes, 2, {0}>, Index<market, 2, {0}>, Index<independ, 4, {0, 1}>, Index<system, 8, {0, 1}>, Index<iso, 10, {0}>, Index<provid, 16, {0, 1}>, Index<energy, 2, {0}>, Index<purchas, 2, {0}>, Index<propos, 6, {0, 1}>, Index<allow, 4, {0}>, Index<control, 4, {0}>, Index<behavy, 4, {0, 1}>, Index<intern, 2, {0}>, Index<load, 6, {0, 1}>, Index<pric, 6, {0}>, Index<sign, 4, {0, 1}>, Index<feedback, 2, {0}>, Index<quant, 4, {0}>, Index<transact, 2, {0}>, Index<rel, 2, {0}>, Index<long, 4, {0}>, Index<period, 4, {0}>, Index<tim, 4, {0}>, Index<eg, 2, {0}>, Index<onehourlong, 2, {0}>, Index<timescal, 8, {0}>, Index<dur, 2, {0}>, Index<thi, 12, {0, 1}>, Index<follow, 2, {0}>, Index<short, 4, {0}>, Index<stochast, 4, {0}>, Index<dynam, 8, {0}>, Index<rep, 2, {0}>, Index<request, 8, {0, 1}>, Index<decreas, 2, {0}>, Index<increas, 2, {0}>, Index<consum, 2, {0}>, Index<model, 4, {0, 1}>, Index<task, 2, {0}>, Index<select, 6, {0, 1}>, Index<optim, 8, {0}>, Index<policy, 6, {0}>, Index<program, 4, {0}>, Index<maxim, 2, {0}>, Index<av, 4, {0, 1}>, Index<util, 4, {0}>, Index<form, 2, {0}>, Index<nonlinear, 2, {0}>, Index<stat, 4, {0}>, Index<problem, 2, {0}>, Index<bind, 4, {0}>, Index<study, 2, {0}>, Index<asymptot, 2, {0}>, Index<regim, 2, {0}>, Index<show, 2, {0}>, Index<tight, 2, {0}>, Index<efficy, 2, {0}>, Index<approxim, 2, {0}>, Index<eq, 2, {0}>, Index<import, 2, {0}>, Index<framework, 2, {0}>, Index<us, 8, {0, 1}>, Index<decid, 2, {0}>, Index<determin, 2, {0}>, Index<demonst, 2, {0}>, Index<ver, 2, {0}>, Index<valid, 2, {0}>, Index<approach, 2, {0}>, Index<sery, 2, {0}>, Index<mont, 2, {0}>, Index<carlo, 2, {0}>, Index<sim, 2, {0}>, Index<traject, 2, {0}>, Index<dataintensive, 4, {1}>, Index<apply, 6, {1}>, Index<put, 2, {1}>, Index<immens, 2, {1}>, Index<strain, 2, {1}>, Index<mem, 4, {1}>, Index<graph, 2, {1}>, Index<process, 2, {1}>, Index<unit, 4, {1}>, Index<gpu, 6, {1}>, Index<cat, 2, {1}>, Index<nee, 2, {1}>, Index<distribut, 2, {1}>, Index<across, 6, {1}>, Index<high, 6, {1}>, Index<bandwid, 10, {1}>, Index<parallel, 2, {1}>, Index<find, 2, {1}>, Index<strategy, 2, {1}>, Index<break, 2, {1}>, Index<shar, 16, {1}>, Index<dat, 14, {1}>, Index<structure, 4, {1}>, Index<becaus, 2, {1}>, Index<lastlevel, 2, {1}>, Index<cach, 6, {1}>, Index<llc, 30, {1}>, Index<org, 4, {1}>, Index<contemp, 2, {1}>, Index<stor, 2, {1}>, Index<singl, 2, {1}>, Index<slic, 4, {1}>, Index<ar, 2, {1}>, Index<hent, 2, {1}>, Index<ser, 2, {1}>, Index<result, 2, {1}>, Index<requir, 2, {1}>, Index<priv, 2, {1}>, Index<oft, 2, {1}>, Index<undesir, 2, {1}>, Index<sint, 2, {1}>, Index<reduc, 2, {1}>, Index<effect, 4, {1}>, Index<capac, 6, {1}>, Index<work, 2, {1}>, Index<reply, 8, {1}>, Index<selrep, 12, {1}>, Index<readonly, 4, {1}>, Index<improv, 4, {1}>, Index<supply, 2, {1}>, Index<whil, 2, {1}>, Index<ens, 2, {1}>, Index<retain, 2, {1}>, Index<sufficy, 2, {1}>, Index<keep, 2, {1}>, Index<compiletim, 2, {1}>, Index<compon, 4, {1}>, Index<dataflow, 2, {1}>, Index<analys, 4, {1}>, Index<ident, 2, {1}>, Index<specialpurpose, 2, {1}>, Index<instruct, 2, {1}>, Index<thes, 4, {1}>, Index<access, 2, {1}>, Index<runtim, 2, {1}>, Index<monit, 2, {1}>, Index<lev, 2, {1}>, Index<choos, 2, {1}>, Index<degr, 2, {1}>, Index<car, 2, {1}>, Index<bal, 2, {1}>, Index<benefit, 2, {1}>, Index<cost, 2, {1}>, Index<consist, 2, {1}>, Index<perform, 4, {1}>, Index<replicationsensitive, 2, {1}>, Index<diff, 2, {1}>, Index<set, 2, {1}>, Index<siz, 2, {1}>, Index<mor, 2, {1}>, Index<spec, 2, {1}>, Index<197, 2, {1}>, Index<111, 2, {1}>, Index<616, 2, {1}>, Index<310, 2, {1}>, Index<comp, 2, {1}>, Index<baselin, 2, {1}>, Index<stateoftheart, 2, {1}>, Index<adapt, 2, {1}>, Index<respect, 2, {1}>, Index<inexact, 4, {0}>, Index<approxim, 8, {0}>, Index<comput, 8, {0}>, Index<attract, 2, {0}>, Index<paradigm, 2, {0}>, Index<digit, 2, {0}>, Index<process, 4, {0}>, Index<nanomet, 2, {0}>, Index<scal, 2, {0}>, Index<particul, 2, {0}>, Index<interest, 2, {0}>, Index<arithmet, 2, {0}>, Index<design, 14, {0}>, Index<thi, 6, {0, 1}>, Index<pap, 4, {0, 1}>, Index<deal, 2, {0}>, Index<analys, 4, {0}>, Index<two, 4, {0}>, Index<new, 2, {0}>, Index<42, 2, {0}>, Index<compress, 6, {0}>, Index<util, 4, {0}>, Index<multiply, 10, {0}>, Index<thes, 2, {0}>, Index<rely, 2, {0}>, Index<diff, 4, {0}>, Index<feat, 2, {0}>, Index<imprecid, 2, {0}>, Index<meas, 2, {0}>, Index<er, 6, {0}>, Index<rat, 2, {0}>, Index<socalled, 2, {0}>, Index<norm, 4, {0}>, Index<dist, 4, {0}>, Index<meet, 2, {0}>, Index<respect, 4, {0}>, Index<circuitbased, 2, {0}>, Index<fig, 2, {0}>, Index<merit, 2, {0}>, Index<numb, 2, {0}>, Index<transist, 4, {0}>, Index<delay, 4, {0}>, Index<pow, 4, {0}>, Index<consum, 2, {0}>, Index<four, 2, {0}>, Index<scheme, 2, {0}>, Index<propos, 8, {0}>, Index<ar, 6, {0, 1}>, Index<dadd, 2, {0}>, Index<extend, 2, {0}>, Index<sim, 2, {0}>, Index<result, 4, {0}>, Index<provid, 4, {0}>, Index<apply, 2, {0}>, Index<im, 6, {0}>, Index<pres, 2, {0}>, Index<show, 2, {0}>, Index<accompl, 2, {0}>, Index<sign, 2, {0}>, Index<reduc, 2, {0}>, Index<dissip, 2, {0}>, Index<count, 2, {0}>, Index<comp, 2, {0}>, Index<exact, 2, {0}>, Index<moreov, 2, {0}>, Index<excel, 2, {0}>, Index<cap, 2, {0}>, Index<av, 2, {0}>, Index<peak, 2, {0}>, Index<signaltonoise, 2, {0}>, Index<ratio, 2, {0}>, Index<mor, 2, {0}>, Index<50, 2, {0}>, Index<db, 2, {0}>, Index<consid, 2, {0}>, Index<exampl, 2, {0}>, Index<gam, 10, {1}>, Index<chess, 6, {1}>, Index<widelystudied, 2, {1}>, Index<domain, 6, {1}>, Index<hist, 2, {1}>, Index<art, 2, {1}>, Index<intellig, 2, {1}>, Index<strongest, 2, {1}>, Index<program, 6, {1}>, Index<bas, 2, {1}>, Index<combin, 2, {1}>, Index<soph, 2, {1}>, Index<search, 2, {1}>, Index<techn, 2, {1}>, Index<domainspecific, 2, {1}>, Index<adapt, 2, {1}>, Index<handcraft, 2, {1}>, Index<evalu, 2, {1}>, Index<funct, 2, {1}>, Index<hav, 2, {1}>, Index<refin, 2, {1}>, Index<hum, 2, {1}>, Index<expert, 2, {1}>, Index<ov, 2, {1}>, Index<sev, 2, {1}>, Index<decad, 2, {1}>, Index<contrast, 2, {1}>, Index<alphago, 2, {1}>, Index<zero, 2, {1}>, Index<rec, 2, {1}>, Index<achiev, 6, {1}>, Index<superhum, 6, {1}>, Index<perform, 4, {1}>, Index<go, 4, {1}>, Index<tabul, 4, {1}>, Index<ras, 4, {1}>, Index<reinforc, 2, {1}>, Index<learn, 2, {1}>, Index<selfplay, 2, {1}>, Index<gen, 2, {1}>, Index<approach, 2, {1}>, Index<singl, 2, {1}>, Index<alphazero, 4, {1}>, Index<algorithm, 2, {1}>, Index<many, 2, {1}>, Index<challeng, 2, {1}>, Index<start, 2, {1}>, Index<random, 2, {1}>, Index<play, 4, {1}>, Index<giv, 2, {1}>, Index<knowledg, 2, {1}>, Index<exceiv, 2, {1}>, Index<rul, 2, {1}>, Index<within, 2, {1}>, Index<24, 2, {1}>, Index<hour, 2, {1}>, Index<level, 2, {1}>, Index<shog, 2, {1}>, Index<japan, 2, {1}>, Index<wel, 2, {1}>, Index<convint, 2, {1}>, Index<def, 2, {1}>, Index<worldchampion, 2, {1}>, Index<cas, 2, {1}>])\n",
      "defaultdict(<class 'set'>, {})\n"
     ]
    }
   ],
   "source": [
    "from collections import defaultdict, deque\n",
    "\n",
    "\n",
    "class Index:\n",
    "    def __init__(self, word) -> None:\n",
    "        self.word = word\n",
    "        self.number_of_repeat = 0\n",
    "        self.doc_ids = set()\n",
    "\n",
    "    def add_to_new_doc(self, doc_id):\n",
    "        self.number_of_repeat += 1\n",
    "        self.doc_ids.add(doc_id)\n",
    "\n",
    "    def __repr__(self) -> str:\n",
    "        return f\"Index<{self.word}, {self.number_of_repeat}, {self.doc_ids}>\"\n",
    "        \n",
    "\n",
    "class DocumentBatch:\n",
    "    def __init__(self, docs):\n",
    "        self.documents = docs\n",
    "        self.index = dict()\n",
    "        self.sort_based_index_construction()\n",
    "\n",
    "    def sort_based_index_construction(self):\n",
    "        # {TODO}: Build an inverted index for the batch\n",
    "        preprocessor = Preprocessor()\n",
    "        for idx, doc in enumerate(self.documents):\n",
    "            procced_doc = preprocessor.preprocess(doc)\n",
    "            for word in procced_doc:\n",
    "                if word not in self.index.keys():                \n",
    "                    self.index[word] = Index(word)\n",
    "                self.index[word].add_to_new_doc(idx)\n",
    "        return self.index\n",
    "        \n",
    "\n",
    "class FastSearchEngine:\n",
    "    def __init__(self):\n",
    "        self.main_index = defaultdict(set)\n",
    "        self.daily_indices = deque()\n",
    "\n",
    "    def add_batch(self, batch: DocumentBatch):\n",
    "        # {TODO}: Incorporate the new batch into the daily indices\n",
    "        for i in batch.sort_based_index_construction().values():\n",
    "            self.daily_indices.append(i)\n",
    "\n",
    "    def end_of_day_logarithmic_merge(self):\n",
    "        print(self.daily_indices)\n",
    "        # {TODO}: Implement the logarithmic merge strategy\n",
    "        pass\n",
    "\n",
    "\n",
    "# Divide the documents into groups to distribute them between servers. For example, let's consider two servers here.\n",
    "# Divide the documents of each server into batches, for instance, five batches.\n",
    "# Create an index for each batch and for each server, then merge them into the main index at the end of the day.\n",
    "# Repeat this process until all documents are processed.\n",
    "\n",
    "\n",
    "# Usage example\n",
    "server_a_docs = df.iloc[0:20]['abstract'].values\n",
    "server_b_docs = df.iloc[30:50]['abstract'].values\n",
    "\n",
    "\n",
    "for i in range(5):\n",
    "    server_a_batch = DocumentBatch(server_a_docs[i*2:i*2+2])\n",
    "    server_b_batch = DocumentBatch(server_b_docs[i*2:i*2+2])\n",
    "\n",
    "    search_engine = FastSearchEngine()\n",
    "    search_engine.add_batch(server_a_batch)\n",
    "    search_engine.add_batch(server_b_batch)\n",
    "\n",
    "    # At end of day\n",
    "    search_engine.end_of_day_logarithmic_merge()\n",
    "\n",
    "# Note that the above was just an example demonstrating the general process.\n",
    "# but you can take two servers and five batches for each server as a constant and implement the process for them.\n",
    "print(search_engine.main_index)\n"
   ]
  },
  {
   "cell_type": "markdown",
   "metadata": {},
   "source": [
    "<div dir='rtl'>\n",
    "<h1>Spell Correction (اصلاح پرسمان)</h1>\n",
    "<p>\n",
    "در بسیاری از اوقات پرسمان دادە شده توسط کاربر، ممکن است ناقص یا دارای غلط املایی باشد. برای رفع این مشکل در بسیاری از موتورهای جستجو راە حل هایی تدارک دیده شدە است. ابتدا این راە حل ها را شرح دهید و بیان کنید که یک موتور جست و جو بر چه اساسی پرسمان های اصلاح شده را به کاربر نمایش می دهد.</p>\n",
    "</div>"
   ]
  },
  {
   "cell_type": "markdown",
   "metadata": {},
   "source": [
    "<div dir='rtl'>\n",
    "<h2>پاسخ سوال بالا</h2>\n",
    "پاسخ‌ خود را در این سلول بنویسید."
   ]
  },
  {
   "cell_type": "markdown",
   "metadata": {},
   "source": [
    "<div dir='rtl'>\n",
    "<p>\n",
    "    در این بخش، ابتدا با استفاده از روش bigram لغات نزدیک به لغات اصلی را پیدا کنید و در آخر با معیار minimum edit distance لغتی جایگزین را برای لغت مورد نظر پیدا کنید.  سپس برای هر پرسمان ورودی کاربر، در صورت اشتباه بودن آن، آن را تصحیح کنید. برای stopword‌ها نیز می‌توانید از لیست موجود که در قسمت‌های قبل ساختید استفاده کنید.\n",
    "</p>\n",
    "</div>"
   ]
  },
  {
   "cell_type": "code",
   "execution_count": 5,
   "metadata": {},
   "outputs": [],
   "source": [
    "from typing import List, Dict\n",
    "\n",
    "def create_bigram_index():\n",
    "    \"\"\"\n",
    "    Creates a bigram index for the spell correction\n",
    "\n",
    "    Returns\n",
    "    -------\n",
    "    dict\n",
    "        A dictionary of bigrams and their occurence\n",
    "    \"\"\"\n",
    "    # TODO: Create the bigram index here\n",
    "    bigram: Dict[str, List[str]] = {}\n",
    "    return bigram\n",
    "\n",
    "bigram_index = create_bigram_index()"
   ]
  },
  {
   "cell_type": "code",
   "execution_count": 6,
   "metadata": {},
   "outputs": [
    {
     "data": {
      "text/plain": [
       "''"
      ]
     },
     "execution_count": 6,
     "metadata": {},
     "output_type": "execute_result"
    }
   ],
   "source": [
    "def spell_correction(query):\n",
    "  \"\"\"\n",
    "    Correct the give query text, if it is misspelled\n",
    "\n",
    "    Paramters\n",
    "    ---------\n",
    "    query: str\n",
    "        The query text\n",
    "\n",
    "    Returns\n",
    "    ---------\n",
    "    corrected_query: str\n",
    "        The corrected text\n",
    "    \"\"\"\n",
    "  # TODO: correct the query\n",
    "  corrected_query = \"\"\n",
    "\n",
    "  return corrected_query\n",
    "\n",
    "# Example usage\n",
    "user_query = \"Wht is the most populr progarmming lanuage?\"\n",
    "spell_correction(user_query)"
   ]
  },
  {
   "cell_type": "markdown",
   "metadata": {},
   "source": [
    "<div dir='rtl'>\n",
    "<h1> Boolean Retrieval </h1>\n",
    "<p>\n",
    " در این قسمت هدف طراحی یک سامانەی بازیابی اطلاعات boolean می‌باشد. \n",
    "\n",
    "برای این کار ابتدا پیش پردازش‌های مورد نیاز را مانند بخش قبل بر روی متون انجام دهید و در مرحله بعد ماتریس doc−term را ایجاد کنید. در نهایت کلاس BooleanRetrievalModel را تکمیل کنید که شامل توابع preprocess_query و find_siⅿiⅼar_docs است که توضیحات هرکدام در قسمت کد موجود است. هدف نهایی این است که هرگاه کوئری به تابع find_siⅿiⅼar_docs از کلاس BooleanRetrievalModel داده شود، شناسه k تا از داک‌هایی که شامل کوئری داده شده هستند برگردانده شوند.\n",
    "</p>\n",
    "</div>"
   ]
  },
  {
   "cell_type": "code",
   "execution_count": 7,
   "metadata": {},
   "outputs": [],
   "source": [
    "# preprocess and tokenize all documents"
   ]
  },
  {
   "cell_type": "code",
   "execution_count": 8,
   "metadata": {},
   "outputs": [],
   "source": [
    "def make_doc_term_matrix(documents):\n",
    "    \"\"\"\n",
    "    Create doc_term_matrix by using documents and unique words.\n",
    "    \"\"\"\n",
    "    pass"
   ]
  },
  {
   "cell_type": "code",
   "execution_count": 9,
   "metadata": {},
   "outputs": [],
   "source": [
    "class BooleanRetrievalModel:\n",
    "    def __init__(self, doc_term_matrix):\n",
    "        \"\"\"    \n",
    "        Set doc_term_matrix and initialize the model.\n",
    "        \"\"\"\n",
    "\n",
    "    def preprocess_query(self, query):\n",
    "        \"\"\"\n",
    "        Do necessary preprocessing here before using the query to find k similar docs.\n",
    "        Use methods from Preprocess section.\n",
    "        \"\"\"\n",
    "        processed_query = ''\n",
    "        return processed_query\n",
    "    \n",
    "    def find_siⅿiⅼar_docs(self, query, k=20):\n",
    "        processed_query = preprocess_query(query)\n",
    "        \"\"\"\n",
    "        Find k similiar documents.\n",
    "        \"\"\"\n",
    "        similiar_docs = []\n",
    "        return similiar_docs"
   ]
  },
  {
   "cell_type": "markdown",
   "metadata": {},
   "source": [
    "<div dir='rtl'>\n",
    "در این قسمت ۳ کوئری مختلف به دلخواه خود بزنید و لیست داکیومنت‌های مرتبط با آن‌ها را برگردانید. برای کوتاه‌تر شدن لیست جواب در هر کوئری می‌توانید از عملگر‌های منطقی مانند AND استفاده کنید.\n",
    "</div>"
   ]
  },
  {
   "cell_type": "code",
   "execution_count": 10,
   "metadata": {},
   "outputs": [],
   "source": [
    "# make 3 queries and find similar docs for each of them"
   ]
  },
  {
   "cell_type": "markdown",
   "metadata": {},
   "source": [
    "<div dir='rtl'>\n",
    "\n",
    "# ذخیره و فشرده‌سازی نمایه\n",
    "در این بخش، در ابتدا دو الگوریتم فشرده‌سازی gamma code و variable byte را پیاده‌سازی کنید.  \n",
    "سپس نمایه را به سه شکل زیر ذخیره کنید:\n",
    "- نمایه‌ی اصلی بدون فشرده‌سازی\n",
    "- نمایه‌ای که با استفاده از gamma code فشرده شده است.\n",
    "- نمایه‌ای که با استفاده از variable byte فشرده شده است.\n",
    "\n",
    "در ادامه اندازه‌ی هر کدام از سه فایل بالا را با استفاده از یک تابع به دست آورده و چاپ کنید.  \n",
    "همچنین باید تابع‌هایی برای decompress کردن نمایه‌های فشرده‌شده پیاده‌سازی کنید.\n",
    "\n",
    "**نکته‌ی ۱:** تمامی نمایه‌ها را نیز در کوئرا ارسال کنید. اگر حجم‌شان بیش‌تر از محدودیت کوئرا است، آن‌ها را در یک مکان دیگر آپلود کرده و لینک آن را در این فایل قرار دهید.  \n",
    "**نکته‌ی ۲:** توابع زیر صرفاً پیشنهادی هستند و هر گونه تغییر تا زمانی که کاربردهای مورد نظر پیاده شود، آزاد است.\n",
    "</div>"
   ]
  },
  {
   "cell_type": "code",
   "execution_count": 11,
   "metadata": {},
   "outputs": [],
   "source": [
    "def gamma_encode():\n",
    "    pass\n",
    "\n",
    "def variable_byte_encode():\n",
    "    pass\n"
   ]
  },
  {
   "cell_type": "code",
   "execution_count": 12,
   "metadata": {},
   "outputs": [],
   "source": [
    "def gamma_decode():\n",
    "    pass\n",
    "\n",
    "def variable_byte_decode():\n",
    "    pass\n"
   ]
  },
  {
   "cell_type": "code",
   "execution_count": 13,
   "metadata": {},
   "outputs": [],
   "source": [
    "def save_index():\n",
    "    pass\n",
    "\n",
    "def load_index():\n",
    "    pass\n",
    "\n",
    "def get_size():\n",
    "    pass"
   ]
  }
 ],
 "metadata": {
  "kernelspec": {
   "display_name": "Python 3",
   "language": "python",
   "name": "python3"
  },
  "language_info": {
   "codemirror_mode": {
    "name": "ipython",
    "version": 3
   },
   "file_extension": ".py",
   "mimetype": "text/x-python",
   "name": "python",
   "nbconvert_exporter": "python",
   "pygments_lexer": "ipython3",
   "version": "3.11.4"
  },
  "orig_nbformat": 4,
  "vscode": {
   "interpreter": {
    "hash": "08ac30a6a1fd2e576b33e03f7d61c3a285d7ee0582c2dd23dde6343ef303ebe9"
   }
  }
 },
 "nbformat": 4,
 "nbformat_minor": 2
}
